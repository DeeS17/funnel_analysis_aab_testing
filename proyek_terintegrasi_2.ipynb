{
  "nbformat": 4,
  "nbformat_minor": 0,
  "metadata": {
    "colab": {
      "provenance": [],
      "toc_visible": true,
      "authorship_tag": "ABX9TyNSwmKSiALmIiqWO8e485SQ",
      "include_colab_link": true
    },
    "kernelspec": {
      "name": "python3",
      "display_name": "Python 3"
    },
    "language_info": {
      "name": "python"
    }
  },
  "cells": [
    {
      "cell_type": "markdown",
      "metadata": {
        "id": "view-in-github",
        "colab_type": "text"
      },
      "source": [
        "<a href=\"https://colab.research.google.com/github/DeeS17/funnel_analysis_aab_testing/blob/main/proyek_terintegrasi_2.ipynb\" target=\"_parent\"><img src=\"https://colab.research.google.com/assets/colab-badge.svg\" alt=\"Open In Colab\"/></a>"
      ]
    },
    {
      "cell_type": "markdown",
      "source": [
        "# Konten\n",
        "  - Tahap 1: Pra-Pemrosesan Data\n",
        "  - Tahap 2: Memuat Data\n",
        "  - Tahap 3: Eksplorasi Data\n",
        "    - Jumlah Peristiwa Yang ada Didalam Dataset\n",
        "    - Jumlah Pengguna Didalam Dataset\n",
        "    - Rata-Rata Peristiwa per Pengguna\n",
        "    - Periode Waktu Data\n",
        "    - Melihat Frekuensi pada Setiap Peristiwa\n",
        "    - Melihat Urutan Peristiwa\n",
        "    - Corong Peristiwa\n",
        "    - Corong Peristiwa\n",
        "  - Tahap 4: Analisa Data\n",
        "    - Jumlah Pengguna Per Kelompok Eksperimen\n",
        "    - Melihat Pola Peristiwa Kelompok Kontrol\n",
        "    - Menguji Seluruh Peristiwa Diantara Kelompok Kontrol\n",
        "    - Menguji Seluruh Peristiwa Antara Kelompok Kontrol dengan Kelompok Uji\n",
        "    - Menguji Seluruh Peristiwa Antara Kelompok Kontrol dengan Kelompok Uji dengan Nilai Alpha 0.1\n",
        "  - Tahap 5: Kesimpulan"
      ],
      "metadata": {
        "id": "m_FDBDEZFQeM"
      }
    },
    {
      "cell_type": "markdown",
      "source": [
        "# Pendahuluan"
      ],
      "metadata": {
        "id": "jTGrnhJ9FSGx"
      }
    },
    {
      "cell_type": "markdown",
      "source": [
        "Sebuah perusahaan *startup* yang menjual produk makanan ingin mengetahui perilaku pengguna aplikasi dari perusahaan tersebut. Untuk mengetahui perilaku pengguna saya kan melakukan melihat corong penjualan dan melihat bagaimana pengguna mencapai tahap pembelian. \n",
        "\n",
        "Selain itu *web designer* ingin mengubah *font* untuk keseluruhan aplikasi. Karena itu saya akan melakukan A/A/B testing untuk melihat apakah pengguna merasa terganggu dengan perubahan *font* tersebut."
      ],
      "metadata": {
        "id": "0KjR1ENtQr-e"
      }
    },
    {
      "cell_type": "markdown",
      "source": [
        "# Tujuan"
      ],
      "metadata": {
        "id": "bJhsNC1TFVXK"
      }
    },
    {
      "cell_type": "markdown",
      "source": [
        "- Melihat corong penjualan untuk mengetahui bagaimana pengguna bisa mencapai tahap pembelian.\n",
        "- Melihat dampak dari perubahan *font* pada seluruh tampilan aplikasi dengan menggunakan metode A/A/B *testing*."
      ],
      "metadata": {
        "id": "xqzg2e-BUlaI"
      }
    },
    {
      "cell_type": "markdown",
      "source": [
        "# Tahapan"
      ],
      "metadata": {
        "id": "vLXqp4WNFXyN"
      }
    },
    {
      "cell_type": "markdown",
      "source": [
        "- Pra-Pemrosesan Data\n",
        "- Memuat Data\n",
        "- Eksplorasi Data\n",
        "- Analisa Data\n",
        "- Kesimpulan"
      ],
      "metadata": {
        "id": "hLrS3jEQWeD_"
      }
    },
    {
      "cell_type": "markdown",
      "source": [
        "# Pra-Pemrosesan Data"
      ],
      "metadata": {
        "id": "QWQNpknyFzpu"
      }
    },
    {
      "cell_type": "code",
      "execution_count": null,
      "metadata": {
        "id": "gxoYnwKbFJST"
      },
      "outputs": [],
      "source": [
        "import pandas as pd\n",
        "import numpy as np\n",
        "import matplotlib.pyplot as plt\n",
        "import seaborn as sns\n",
        "from datetime import datetime\n",
        "from plotly import graph_objects as go\n",
        "from scipy import stats\n",
        "import math"
      ]
    },
    {
      "cell_type": "markdown",
      "source": [
        "# Memuat Data"
      ],
      "metadata": {
        "id": "LdiIagbUG1AV"
      }
    },
    {
      "cell_type": "code",
      "source": [
        "try:\n",
        "  df = pd.read_csv('/datasets/logs_exp_us.csv', sep='\\t')\n",
        "except:\n",
        "  df = pd.read_csv('/content/logs_exp_us.csv', sep='\\t')\n",
        "\n",
        "df.head()"
      ],
      "metadata": {
        "colab": {
          "base_uri": "https://localhost:8080/",
          "height": 206
        },
        "id": "RN_r6fxNGybF",
        "outputId": "4ab2cd99-ba32-4b5a-9d68-d3e56a4eb29b"
      },
      "execution_count": null,
      "outputs": [
        {
          "output_type": "execute_result",
          "data": {
            "text/plain": [
              "                 EventName         DeviceIDHash  EventTimestamp  ExpId\n",
              "0         MainScreenAppear  4575588528974610257      1564029816    246\n",
              "1         MainScreenAppear  7416695313311560658      1564053102    246\n",
              "2  PaymentScreenSuccessful  3518123091307005509      1564054127    248\n",
              "3         CartScreenAppear  3518123091307005509      1564054127    248\n",
              "4  PaymentScreenSuccessful  6217807653094995999      1564055322    248"
            ],
            "text/html": [
              "\n",
              "  <div id=\"df-2acc4876-9700-4912-9aac-247776e89806\">\n",
              "    <div class=\"colab-df-container\">\n",
              "      <div>\n",
              "<style scoped>\n",
              "    .dataframe tbody tr th:only-of-type {\n",
              "        vertical-align: middle;\n",
              "    }\n",
              "\n",
              "    .dataframe tbody tr th {\n",
              "        vertical-align: top;\n",
              "    }\n",
              "\n",
              "    .dataframe thead th {\n",
              "        text-align: right;\n",
              "    }\n",
              "</style>\n",
              "<table border=\"1\" class=\"dataframe\">\n",
              "  <thead>\n",
              "    <tr style=\"text-align: right;\">\n",
              "      <th></th>\n",
              "      <th>EventName</th>\n",
              "      <th>DeviceIDHash</th>\n",
              "      <th>EventTimestamp</th>\n",
              "      <th>ExpId</th>\n",
              "    </tr>\n",
              "  </thead>\n",
              "  <tbody>\n",
              "    <tr>\n",
              "      <th>0</th>\n",
              "      <td>MainScreenAppear</td>\n",
              "      <td>4575588528974610257</td>\n",
              "      <td>1564029816</td>\n",
              "      <td>246</td>\n",
              "    </tr>\n",
              "    <tr>\n",
              "      <th>1</th>\n",
              "      <td>MainScreenAppear</td>\n",
              "      <td>7416695313311560658</td>\n",
              "      <td>1564053102</td>\n",
              "      <td>246</td>\n",
              "    </tr>\n",
              "    <tr>\n",
              "      <th>2</th>\n",
              "      <td>PaymentScreenSuccessful</td>\n",
              "      <td>3518123091307005509</td>\n",
              "      <td>1564054127</td>\n",
              "      <td>248</td>\n",
              "    </tr>\n",
              "    <tr>\n",
              "      <th>3</th>\n",
              "      <td>CartScreenAppear</td>\n",
              "      <td>3518123091307005509</td>\n",
              "      <td>1564054127</td>\n",
              "      <td>248</td>\n",
              "    </tr>\n",
              "    <tr>\n",
              "      <th>4</th>\n",
              "      <td>PaymentScreenSuccessful</td>\n",
              "      <td>6217807653094995999</td>\n",
              "      <td>1564055322</td>\n",
              "      <td>248</td>\n",
              "    </tr>\n",
              "  </tbody>\n",
              "</table>\n",
              "</div>\n",
              "      <button class=\"colab-df-convert\" onclick=\"convertToInteractive('df-2acc4876-9700-4912-9aac-247776e89806')\"\n",
              "              title=\"Convert this dataframe to an interactive table.\"\n",
              "              style=\"display:none;\">\n",
              "        \n",
              "  <svg xmlns=\"http://www.w3.org/2000/svg\" height=\"24px\"viewBox=\"0 0 24 24\"\n",
              "       width=\"24px\">\n",
              "    <path d=\"M0 0h24v24H0V0z\" fill=\"none\"/>\n",
              "    <path d=\"M18.56 5.44l.94 2.06.94-2.06 2.06-.94-2.06-.94-.94-2.06-.94 2.06-2.06.94zm-11 1L8.5 8.5l.94-2.06 2.06-.94-2.06-.94L8.5 2.5l-.94 2.06-2.06.94zm10 10l.94 2.06.94-2.06 2.06-.94-2.06-.94-.94-2.06-.94 2.06-2.06.94z\"/><path d=\"M17.41 7.96l-1.37-1.37c-.4-.4-.92-.59-1.43-.59-.52 0-1.04.2-1.43.59L10.3 9.45l-7.72 7.72c-.78.78-.78 2.05 0 2.83L4 21.41c.39.39.9.59 1.41.59.51 0 1.02-.2 1.41-.59l7.78-7.78 2.81-2.81c.8-.78.8-2.07 0-2.86zM5.41 20L4 18.59l7.72-7.72 1.47 1.35L5.41 20z\"/>\n",
              "  </svg>\n",
              "      </button>\n",
              "      \n",
              "  <style>\n",
              "    .colab-df-container {\n",
              "      display:flex;\n",
              "      flex-wrap:wrap;\n",
              "      gap: 12px;\n",
              "    }\n",
              "\n",
              "    .colab-df-convert {\n",
              "      background-color: #E8F0FE;\n",
              "      border: none;\n",
              "      border-radius: 50%;\n",
              "      cursor: pointer;\n",
              "      display: none;\n",
              "      fill: #1967D2;\n",
              "      height: 32px;\n",
              "      padding: 0 0 0 0;\n",
              "      width: 32px;\n",
              "    }\n",
              "\n",
              "    .colab-df-convert:hover {\n",
              "      background-color: #E2EBFA;\n",
              "      box-shadow: 0px 1px 2px rgba(60, 64, 67, 0.3), 0px 1px 3px 1px rgba(60, 64, 67, 0.15);\n",
              "      fill: #174EA6;\n",
              "    }\n",
              "\n",
              "    [theme=dark] .colab-df-convert {\n",
              "      background-color: #3B4455;\n",
              "      fill: #D2E3FC;\n",
              "    }\n",
              "\n",
              "    [theme=dark] .colab-df-convert:hover {\n",
              "      background-color: #434B5C;\n",
              "      box-shadow: 0px 1px 3px 1px rgba(0, 0, 0, 0.15);\n",
              "      filter: drop-shadow(0px 1px 2px rgba(0, 0, 0, 0.3));\n",
              "      fill: #FFFFFF;\n",
              "    }\n",
              "  </style>\n",
              "\n",
              "      <script>\n",
              "        const buttonEl =\n",
              "          document.querySelector('#df-2acc4876-9700-4912-9aac-247776e89806 button.colab-df-convert');\n",
              "        buttonEl.style.display =\n",
              "          google.colab.kernel.accessAllowed ? 'block' : 'none';\n",
              "\n",
              "        async function convertToInteractive(key) {\n",
              "          const element = document.querySelector('#df-2acc4876-9700-4912-9aac-247776e89806');\n",
              "          const dataTable =\n",
              "            await google.colab.kernel.invokeFunction('convertToInteractive',\n",
              "                                                     [key], {});\n",
              "          if (!dataTable) return;\n",
              "\n",
              "          const docLinkHtml = 'Like what you see? Visit the ' +\n",
              "            '<a target=\"_blank\" href=https://colab.research.google.com/notebooks/data_table.ipynb>data table notebook</a>'\n",
              "            + ' to learn more about interactive tables.';\n",
              "          element.innerHTML = '';\n",
              "          dataTable['output_type'] = 'display_data';\n",
              "          await google.colab.output.renderOutput(dataTable, element);\n",
              "          const docLink = document.createElement('div');\n",
              "          docLink.innerHTML = docLinkHtml;\n",
              "          element.appendChild(docLink);\n",
              "        }\n",
              "      </script>\n",
              "    </div>\n",
              "  </div>\n",
              "  "
            ]
          },
          "metadata": {},
          "execution_count": 2
        }
      ]
    },
    {
      "cell_type": "markdown",
      "source": [
        "Data telah berhasil dimuat, selanjutnya saya akan memeriksa apakah ada data duplikatnya. "
      ],
      "metadata": {
        "id": "3qZb9UyW2xFc"
      }
    },
    {
      "cell_type": "code",
      "source": [
        "df.duplicated().sum()"
      ],
      "metadata": {
        "colab": {
          "base_uri": "https://localhost:8080/"
        },
        "id": "XlsjTT5ORJ0r",
        "outputId": "a377f3c8-5d40-4db3-f61c-ef3fff20a87a"
      },
      "execution_count": null,
      "outputs": [
        {
          "output_type": "execute_result",
          "data": {
            "text/plain": [
              "413"
            ]
          },
          "metadata": {},
          "execution_count": 3
        }
      ]
    },
    {
      "cell_type": "markdown",
      "source": [
        "Ternyata ada 413 data duplikat. Karena itu saya akan menghapus data duplikatnya."
      ],
      "metadata": {
        "id": "makyaRbLSLWR"
      }
    },
    {
      "cell_type": "code",
      "source": [
        "df.drop_duplicates(inplace=True)\n",
        "df.duplicated().sum()"
      ],
      "metadata": {
        "colab": {
          "base_uri": "https://localhost:8080/"
        },
        "id": "qIBifYljSnSl",
        "outputId": "721766b4-28bc-4e63-9a7d-b13fb5a90baa"
      },
      "execution_count": null,
      "outputs": [
        {
          "output_type": "execute_result",
          "data": {
            "text/plain": [
              "0"
            ]
          },
          "metadata": {},
          "execution_count": 4
        }
      ]
    },
    {
      "cell_type": "markdown",
      "source": [
        "Data duplikatnya telah berhasil dibersihkan."
      ],
      "metadata": {
        "id": "KYA1KK0KzKIu"
      }
    },
    {
      "cell_type": "code",
      "source": [
        "df.info()"
      ],
      "metadata": {
        "colab": {
          "base_uri": "https://localhost:8080/"
        },
        "id": "WwPKuGCyKDxO",
        "outputId": "2b16b4f7-df51-4593-a9fd-0f96d9b516e6"
      },
      "execution_count": null,
      "outputs": [
        {
          "output_type": "stream",
          "name": "stdout",
          "text": [
            "<class 'pandas.core.frame.DataFrame'>\n",
            "Int64Index: 243713 entries, 0 to 244125\n",
            "Data columns (total 4 columns):\n",
            " #   Column          Non-Null Count   Dtype \n",
            "---  ------          --------------   ----- \n",
            " 0   EventName       243713 non-null  object\n",
            " 1   DeviceIDHash    243713 non-null  int64 \n",
            " 2   EventTimestamp  243713 non-null  int64 \n",
            " 3   ExpId           243713 non-null  int64 \n",
            "dtypes: int64(3), object(1)\n",
            "memory usage: 9.3+ MB\n"
          ]
        }
      ]
    },
    {
      "cell_type": "markdown",
      "source": [
        "Setelah datanya dibersihkan dari dupplikat menyisakan `243,713` baris data. Datanya seluruh lengkap, tidak ada data yang hilang. Hanya kolom `EventName` yang tipe datanya `string`, sisa kolom lainnnya memiliki tipe data `integer`. "
      ],
      "metadata": {
        "id": "SctWYjwT3uQV"
      }
    },
    {
      "cell_type": "markdown",
      "source": [
        "# Eksplorasi Data"
      ],
      "metadata": {
        "id": "Q0A1Hcv35p83"
      }
    },
    {
      "cell_type": "markdown",
      "source": [
        "## Jumlah Peristiwa yang Ada didalam Dataset"
      ],
      "metadata": {
        "id": "8IqKnTW155Da"
      }
    },
    {
      "cell_type": "code",
      "source": [
        "id_EventCount = df.groupby('DeviceIDHash').agg({'EventName':'count'}).reset_index()\n",
        "id_EventCount.columns = ['id', 'event_count']\n",
        "id_EventCount['event_count'].sum()"
      ],
      "metadata": {
        "colab": {
          "base_uri": "https://localhost:8080/"
        },
        "id": "f1c0j2eb1JjF",
        "outputId": "cc18fa9e-44cb-4f35-f681-2eaa86873bed"
      },
      "execution_count": null,
      "outputs": [
        {
          "output_type": "execute_result",
          "data": {
            "text/plain": [
              "243713"
            ]
          },
          "metadata": {},
          "execution_count": 6
        }
      ]
    },
    {
      "cell_type": "markdown",
      "source": [
        "Sesuai dengan jumlah baris data, ada `243,713` peristiwa didalam dataset."
      ],
      "metadata": {
        "id": "didSb4s52h0t"
      }
    },
    {
      "cell_type": "markdown",
      "source": [
        "## Jumlah Pengguna Didalam Dataset"
      ],
      "metadata": {
        "id": "bTfxkUgg6kIO"
      }
    },
    {
      "cell_type": "code",
      "source": [
        "  id_EventCount.shape[0]"
      ],
      "metadata": {
        "colab": {
          "base_uri": "https://localhost:8080/"
        },
        "id": "KYNCOwG35wiR",
        "outputId": "bee7c66b-ece0-43ca-e0b5-bf5364f9e6da"
      },
      "execution_count": null,
      "outputs": [
        {
          "output_type": "execute_result",
          "data": {
            "text/plain": [
              "7551"
            ]
          },
          "metadata": {},
          "execution_count": 7
        }
      ]
    },
    {
      "cell_type": "markdown",
      "source": [
        "Ada `7,551` pengguna didalam dataset. Selanjutnya saya akan melihat rata-rata peristiwa per pengguna."
      ],
      "metadata": {
        "id": "VenKaR3k6nDy"
      }
    },
    {
      "cell_type": "markdown",
      "source": [
        "## Rata-Rata Peristiwa per Pengguna"
      ],
      "metadata": {
        "id": "i_Tq5G4h626f"
      }
    },
    {
      "cell_type": "code",
      "source": [
        "event_qty = id_EventCount['event_count'].sum()\n",
        "user_qty = id_EventCount.shape[0]\n",
        "event_per_user = event_qty / user_qty\n",
        "event_per_user"
      ],
      "metadata": {
        "colab": {
          "base_uri": "https://localhost:8080/"
        },
        "id": "WFMZsBa76Y_O",
        "outputId": "2992bae6-7bd5-43be-d022-c9097ab0e82e"
      },
      "execution_count": null,
      "outputs": [
        {
          "output_type": "execute_result",
          "data": {
            "text/plain": [
              "32.27559263673685"
            ]
          },
          "metadata": {},
          "execution_count": 8
        }
      ]
    },
    {
      "cell_type": "markdown",
      "source": [
        "Pada dataset ini, rata-rata setiap pengguna melakukan `32`peristiwa."
      ],
      "metadata": {
        "id": "yeeQWKbr7PIe"
      }
    },
    {
      "cell_type": "markdown",
      "source": [
        "## Periode Waktu Data"
      ],
      "metadata": {
        "id": "fPjyPGnIZvfV"
      }
    },
    {
      "cell_type": "code",
      "source": [
        "df['EventTime'] = pd.to_datetime(df['EventTimestamp'], unit='s')                                         \n",
        "df.head()"
      ],
      "metadata": {
        "id": "uyrJDH4rACu7",
        "colab": {
          "base_uri": "https://localhost:8080/",
          "height": 206
        },
        "outputId": "c59803e6-13bb-49a0-ec5e-781b4c965614"
      },
      "execution_count": null,
      "outputs": [
        {
          "output_type": "execute_result",
          "data": {
            "text/plain": [
              "                 EventName         DeviceIDHash  EventTimestamp  ExpId  \\\n",
              "0         MainScreenAppear  4575588528974610257      1564029816    246   \n",
              "1         MainScreenAppear  7416695313311560658      1564053102    246   \n",
              "2  PaymentScreenSuccessful  3518123091307005509      1564054127    248   \n",
              "3         CartScreenAppear  3518123091307005509      1564054127    248   \n",
              "4  PaymentScreenSuccessful  6217807653094995999      1564055322    248   \n",
              "\n",
              "            EventTime  \n",
              "0 2019-07-25 04:43:36  \n",
              "1 2019-07-25 11:11:42  \n",
              "2 2019-07-25 11:28:47  \n",
              "3 2019-07-25 11:28:47  \n",
              "4 2019-07-25 11:48:42  "
            ],
            "text/html": [
              "\n",
              "  <div id=\"df-6839556c-6683-4595-9872-57dfda05a5c9\">\n",
              "    <div class=\"colab-df-container\">\n",
              "      <div>\n",
              "<style scoped>\n",
              "    .dataframe tbody tr th:only-of-type {\n",
              "        vertical-align: middle;\n",
              "    }\n",
              "\n",
              "    .dataframe tbody tr th {\n",
              "        vertical-align: top;\n",
              "    }\n",
              "\n",
              "    .dataframe thead th {\n",
              "        text-align: right;\n",
              "    }\n",
              "</style>\n",
              "<table border=\"1\" class=\"dataframe\">\n",
              "  <thead>\n",
              "    <tr style=\"text-align: right;\">\n",
              "      <th></th>\n",
              "      <th>EventName</th>\n",
              "      <th>DeviceIDHash</th>\n",
              "      <th>EventTimestamp</th>\n",
              "      <th>ExpId</th>\n",
              "      <th>EventTime</th>\n",
              "    </tr>\n",
              "  </thead>\n",
              "  <tbody>\n",
              "    <tr>\n",
              "      <th>0</th>\n",
              "      <td>MainScreenAppear</td>\n",
              "      <td>4575588528974610257</td>\n",
              "      <td>1564029816</td>\n",
              "      <td>246</td>\n",
              "      <td>2019-07-25 04:43:36</td>\n",
              "    </tr>\n",
              "    <tr>\n",
              "      <th>1</th>\n",
              "      <td>MainScreenAppear</td>\n",
              "      <td>7416695313311560658</td>\n",
              "      <td>1564053102</td>\n",
              "      <td>246</td>\n",
              "      <td>2019-07-25 11:11:42</td>\n",
              "    </tr>\n",
              "    <tr>\n",
              "      <th>2</th>\n",
              "      <td>PaymentScreenSuccessful</td>\n",
              "      <td>3518123091307005509</td>\n",
              "      <td>1564054127</td>\n",
              "      <td>248</td>\n",
              "      <td>2019-07-25 11:28:47</td>\n",
              "    </tr>\n",
              "    <tr>\n",
              "      <th>3</th>\n",
              "      <td>CartScreenAppear</td>\n",
              "      <td>3518123091307005509</td>\n",
              "      <td>1564054127</td>\n",
              "      <td>248</td>\n",
              "      <td>2019-07-25 11:28:47</td>\n",
              "    </tr>\n",
              "    <tr>\n",
              "      <th>4</th>\n",
              "      <td>PaymentScreenSuccessful</td>\n",
              "      <td>6217807653094995999</td>\n",
              "      <td>1564055322</td>\n",
              "      <td>248</td>\n",
              "      <td>2019-07-25 11:48:42</td>\n",
              "    </tr>\n",
              "  </tbody>\n",
              "</table>\n",
              "</div>\n",
              "      <button class=\"colab-df-convert\" onclick=\"convertToInteractive('df-6839556c-6683-4595-9872-57dfda05a5c9')\"\n",
              "              title=\"Convert this dataframe to an interactive table.\"\n",
              "              style=\"display:none;\">\n",
              "        \n",
              "  <svg xmlns=\"http://www.w3.org/2000/svg\" height=\"24px\"viewBox=\"0 0 24 24\"\n",
              "       width=\"24px\">\n",
              "    <path d=\"M0 0h24v24H0V0z\" fill=\"none\"/>\n",
              "    <path d=\"M18.56 5.44l.94 2.06.94-2.06 2.06-.94-2.06-.94-.94-2.06-.94 2.06-2.06.94zm-11 1L8.5 8.5l.94-2.06 2.06-.94-2.06-.94L8.5 2.5l-.94 2.06-2.06.94zm10 10l.94 2.06.94-2.06 2.06-.94-2.06-.94-.94-2.06-.94 2.06-2.06.94z\"/><path d=\"M17.41 7.96l-1.37-1.37c-.4-.4-.92-.59-1.43-.59-.52 0-1.04.2-1.43.59L10.3 9.45l-7.72 7.72c-.78.78-.78 2.05 0 2.83L4 21.41c.39.39.9.59 1.41.59.51 0 1.02-.2 1.41-.59l7.78-7.78 2.81-2.81c.8-.78.8-2.07 0-2.86zM5.41 20L4 18.59l7.72-7.72 1.47 1.35L5.41 20z\"/>\n",
              "  </svg>\n",
              "      </button>\n",
              "      \n",
              "  <style>\n",
              "    .colab-df-container {\n",
              "      display:flex;\n",
              "      flex-wrap:wrap;\n",
              "      gap: 12px;\n",
              "    }\n",
              "\n",
              "    .colab-df-convert {\n",
              "      background-color: #E8F0FE;\n",
              "      border: none;\n",
              "      border-radius: 50%;\n",
              "      cursor: pointer;\n",
              "      display: none;\n",
              "      fill: #1967D2;\n",
              "      height: 32px;\n",
              "      padding: 0 0 0 0;\n",
              "      width: 32px;\n",
              "    }\n",
              "\n",
              "    .colab-df-convert:hover {\n",
              "      background-color: #E2EBFA;\n",
              "      box-shadow: 0px 1px 2px rgba(60, 64, 67, 0.3), 0px 1px 3px 1px rgba(60, 64, 67, 0.15);\n",
              "      fill: #174EA6;\n",
              "    }\n",
              "\n",
              "    [theme=dark] .colab-df-convert {\n",
              "      background-color: #3B4455;\n",
              "      fill: #D2E3FC;\n",
              "    }\n",
              "\n",
              "    [theme=dark] .colab-df-convert:hover {\n",
              "      background-color: #434B5C;\n",
              "      box-shadow: 0px 1px 3px 1px rgba(0, 0, 0, 0.15);\n",
              "      filter: drop-shadow(0px 1px 2px rgba(0, 0, 0, 0.3));\n",
              "      fill: #FFFFFF;\n",
              "    }\n",
              "  </style>\n",
              "\n",
              "      <script>\n",
              "        const buttonEl =\n",
              "          document.querySelector('#df-6839556c-6683-4595-9872-57dfda05a5c9 button.colab-df-convert');\n",
              "        buttonEl.style.display =\n",
              "          google.colab.kernel.accessAllowed ? 'block' : 'none';\n",
              "\n",
              "        async function convertToInteractive(key) {\n",
              "          const element = document.querySelector('#df-6839556c-6683-4595-9872-57dfda05a5c9');\n",
              "          const dataTable =\n",
              "            await google.colab.kernel.invokeFunction('convertToInteractive',\n",
              "                                                     [key], {});\n",
              "          if (!dataTable) return;\n",
              "\n",
              "          const docLinkHtml = 'Like what you see? Visit the ' +\n",
              "            '<a target=\"_blank\" href=https://colab.research.google.com/notebooks/data_table.ipynb>data table notebook</a>'\n",
              "            + ' to learn more about interactive tables.';\n",
              "          element.innerHTML = '';\n",
              "          dataTable['output_type'] = 'display_data';\n",
              "          await google.colab.output.renderOutput(dataTable, element);\n",
              "          const docLink = document.createElement('div');\n",
              "          docLink.innerHTML = docLinkHtml;\n",
              "          element.appendChild(docLink);\n",
              "        }\n",
              "      </script>\n",
              "    </div>\n",
              "  </div>\n",
              "  "
            ]
          },
          "metadata": {},
          "execution_count": 9
        }
      ]
    },
    {
      "cell_type": "markdown",
      "source": [
        "Pada tahap ini saya akan melihat periode waktu yang tercakup didalam data. Sebelum memulainya saya menambahkan kolom `EventTime`. Pada tahap pertama saya akan melihat tanggal awal dan akhirnya. "
      ],
      "metadata": {
        "id": "5d2AMroOb8zV"
      }
    },
    {
      "cell_type": "code",
      "source": [
        "df['EventTime'].min()"
      ],
      "metadata": {
        "colab": {
          "base_uri": "https://localhost:8080/"
        },
        "id": "4chQWwpmdiyq",
        "outputId": "f5c9b0d7-673c-4afb-f314-092ca6dafb23"
      },
      "execution_count": null,
      "outputs": [
        {
          "output_type": "execute_result",
          "data": {
            "text/plain": [
              "Timestamp('2019-07-25 04:43:36')"
            ]
          },
          "metadata": {},
          "execution_count": 10
        }
      ]
    },
    {
      "cell_type": "markdown",
      "source": [
        "Data didalam dataset dimulai dari tanggal `25 Juli 2019`."
      ],
      "metadata": {
        "id": "6BDp2bEVeVTd"
      }
    },
    {
      "cell_type": "code",
      "source": [
        "df['EventTime'].max()"
      ],
      "metadata": {
        "colab": {
          "base_uri": "https://localhost:8080/"
        },
        "id": "fnnz11aqdJ4N",
        "outputId": "63e9e5d2-be17-4306-9e05-0500abcca7d5"
      },
      "execution_count": null,
      "outputs": [
        {
          "output_type": "execute_result",
          "data": {
            "text/plain": [
              "Timestamp('2019-08-07 21:15:17')"
            ]
          },
          "metadata": {},
          "execution_count": 11
        }
      ]
    },
    {
      "cell_type": "markdown",
      "source": [
        "Dan diakhiri pada tanggal `7 Agustus 2019`."
      ],
      "metadata": {
        "id": "QLxzApmVejw-"
      }
    },
    {
      "cell_type": "code",
      "source": [
        "sns.displot(df, x='EventTime', height=6, aspect=2, palette='mako')\n",
        "plt.xticks(rotation=45)\n",
        "\n",
        "plt.title('Number of Event By Time', size=16)\n",
        "plt.xlabel('Date', size=14)\n",
        "plt.ylabel('Event Quantity', size=14)\n",
        "plt.show()"
      ],
      "metadata": {
        "colab": {
          "base_uri": "https://localhost:8080/",
          "height": 501
        },
        "id": "23u4XmGwa0JQ",
        "outputId": "ca9b852d-4dd6-48f7-c365-841146ffdcae"
      },
      "execution_count": null,
      "outputs": [
        {
          "output_type": "display_data",
          "data": {
            "text/plain": [
              "<Figure size 864x432 with 1 Axes>"
            ],
            "image/png": "[encoded data removed]"
          },
          "metadata": {
            "needs_background": "light"
          }
        }
      ]
    },
    {
      "cell_type": "markdown",
      "source": [
        "ternyata sebelum tanggal `1 Agustus 2019` datanya belum cukup banyak, baru mulai meningkat pesat setelah tanggal tersebut. Maka dibawah tanggal tersebut dapat dianggap sebagai peristiwa terdahulu bisa saja muncul dalam dataset karena alasan teknis. Karena itu saya akan menyingkirkan data dibawah tanggal `1 Agustus 2019`, setelah itu saya akan memeriksa apakah jumlah datanya masih cukup per kelompok eksperimen."
      ],
      "metadata": {
        "id": "Wau_U-9cgxYP"
      }
    },
    {
      "cell_type": "code",
      "source": [
        "df.shape[0]"
      ],
      "metadata": {
        "colab": {
          "base_uri": "https://localhost:8080/"
        },
        "id": "tP5GCxMTjr1q",
        "outputId": "cf5fc6a1-add1-41a9-f9ab-a1facb17e3c1"
      },
      "execution_count": null,
      "outputs": [
        {
          "output_type": "execute_result",
          "data": {
            "text/plain": [
              "243713"
            ]
          },
          "metadata": {},
          "execution_count": 13
        }
      ]
    },
    {
      "cell_type": "code",
      "source": [
        "df_1 = df.loc[df['EventTime'] >= '2019-08-01'].copy()\n",
        "df_1.shape[0]"
      ],
      "metadata": {
        "colab": {
          "base_uri": "https://localhost:8080/"
        },
        "id": "2Ioy9x7bjuqU",
        "outputId": "313622b0-35f7-436d-f354-1b03c9ab0910"
      },
      "execution_count": null,
      "outputs": [
        {
          "output_type": "execute_result",
          "data": {
            "text/plain": [
              "240887"
            ]
          },
          "metadata": {},
          "execution_count": 14
        }
      ]
    },
    {
      "cell_type": "markdown",
      "source": [
        "Ternyata hanya kurang dari `300` data yang hilang. Jumlah data syang tersisa tersebut menurut saya masih cukup banyak. Selanjutnya saya akan memeriksa per kelompok eksperimen. "
      ],
      "metadata": {
        "id": "uj4u0_4Jj2gO"
      }
    },
    {
      "cell_type": "code",
      "source": [
        "df_1['ExpId'].unique()"
      ],
      "metadata": {
        "colab": {
          "base_uri": "https://localhost:8080/"
        },
        "id": "EMYNPHxWfwTf",
        "outputId": "16914aab-f989-4f34-c4e5-e89987b3c93f"
      },
      "execution_count": null,
      "outputs": [
        {
          "output_type": "execute_result",
          "data": {
            "text/plain": [
              "array([246, 247, 248])"
            ]
          },
          "metadata": {},
          "execution_count": 15
        }
      ]
    },
    {
      "cell_type": "markdown",
      "source": [
        "Ternyata masih data yang tersisa per kelompok eksperimen. Oleh karena itu saya akan melanjutkan ke tahap selanjutnya."
      ],
      "metadata": {
        "id": "I_CEaGRDkeZX"
      }
    },
    {
      "cell_type": "markdown",
      "source": [
        "## Melihat Frekuensi pada Setiap Peristiwa"
      ],
      "metadata": {
        "id": "3jvaYEuHk4aO"
      }
    },
    {
      "cell_type": "code",
      "source": [
        "event_count = df_1.groupby('EventName').agg({'ExpId':'count'}).reset_index()\n",
        "event_count.columns = ['EventName', 'EventCount']\n",
        "event_count = event_count.sort_values(by='EventCount')\n",
        "event_count\n",
        "\n",
        "fig, ax = plt.subplots(figsize=(10, 5))\n",
        "\n",
        "sns.barplot(data = event_count, x='EventName', y='EventCount', ax=ax, palette='mako')\n",
        "\n",
        "plt.xticks(rotation=45)    \n",
        "plt.title('Number of Event Occur by Event Name', size=16)\n",
        "plt.xlabel('Event Name', size=14)\n",
        "plt.ylabel('Frequency of Event', size=14)\n",
        "plt.show()"
      ],
      "metadata": {
        "colab": {
          "base_uri": "https://localhost:8080/",
          "height": 445
        },
        "id": "6WSW5u_sfvZw",
        "outputId": "2d946c5f-d564-4804-d95e-ffbbba0f73a4"
      },
      "execution_count": null,
      "outputs": [
        {
          "output_type": "display_data",
          "data": {
            "text/plain": [
              "<Figure size 720x360 with 1 Axes>"
            ],
            "image/png": "[encoded data removed]"
          },
          "metadata": {
            "needs_background": "light"
          }
        }
      ]
    },
    {
      "cell_type": "markdown",
      "source": [
        "Dari data diatas menunjukan `MainScreenAppear` sedangkan sebaliknya, paling sedikit `Tutorial`. Hal ini sepertinya menunjukan peristiwa `MainScreenAppear`, `OffersScreenAppear`, `CartScreenAppear`, dan `PaymentScreenSuccessful` peristiwanya terus berlanjut, sedangkan `Tutorial` tidak."
      ],
      "metadata": {
        "id": "Tdt60EB25nP7"
      }
    },
    {
      "cell_type": "code",
      "source": [
        "users_ = []\n",
        "event_ = df_1['EventName'].unique().tolist()\n",
        "for event in df_1['EventName'].unique():\n",
        "  users1 = df_1.loc[df_1['EventName'] == event].groupby('EventName').agg({'DeviceIDHash':'nunique'}).reset_index()\n",
        "  users2 = users1.loc[0,'DeviceIDHash']\n",
        "  users_.append(users2)\n",
        "\n",
        "users_per_event = pd.DataFrame({'event': event_, 'users_count':users_})\n",
        "users_per_event\n",
        "\n",
        "fig, ax = plt.subplots(figsize=(10, 5))\n",
        "\n",
        "sns.barplot(data = users_per_event, x='event', y='users_count', ax=ax, palette='mako')\n",
        "\n",
        "plt.xticks(rotation=45)    \n",
        "plt.title('Number of Users by Event Name', size=16)\n",
        "plt.xlabel('Event Name', size=14)\n",
        "plt.ylabel('Number of Users', size=14)\n",
        "plt.show()"
      ],
      "metadata": {
        "colab": {
          "base_uri": "https://localhost:8080/",
          "height": 445
        },
        "id": "Fdz8kqtO2q6K",
        "outputId": "2202b21b-d2b8-4aaa-e4b0-96ac17bd0b52"
      },
      "execution_count": null,
      "outputs": [
        {
          "output_type": "display_data",
          "data": {
            "text/plain": [
              "<Figure size 720x360 with 1 Axes>"
            ],
            "image/png": "[encoded data removed]"
          },
          "metadata": {
            "needs_background": "light"
          }
        }
      ]
    },
    {
      "cell_type": "markdown",
      "source": [
        "## Melihat Urutan Peristiwa"
      ],
      "metadata": {
        "id": "rzA_QVh5kbyT"
      }
    },
    {
      "cell_type": "markdown",
      "source": [
        "Pada tahap ini, saya akan memeriksa apakah peristiwa tersebut berurutan seperti dugaan saya pada sebelumnya. Yang mana, peristiwa `MainScreenAppear`, `OffersScreenAppear`, `CartScreenAppear`, dan `PaymentScreenSuccessful` merupakan peristiwa bertahap dan terus berlanjut."
      ],
      "metadata": {
        "id": "jjrzNg1WtvZR"
      }
    },
    {
      "cell_type": "code",
      "source": [
        "users_event_tbl = df_1.pivot_table(\n",
        "    index = 'DeviceIDHash',\n",
        "    columns = ['EventName'],\n",
        "    values = 'EventTime',\n",
        "    aggfunc = 'min'\n",
        ")\n",
        "\n",
        "users_event_tbl = users_event_tbl[['Tutorial', 'MainScreenAppear', 'OffersScreenAppear', 'CartScreenAppear', 'PaymentScreenSuccessful']]\n",
        "users_event_tbl.reset_index(inplace=True)\n",
        "users_event_tbl.loc[(users_event_tbl['OffersScreenAppear'].isna()) & (~users_event_tbl['PaymentScreenSuccessful'].isna())].head()"
      ],
      "metadata": {
        "colab": {
          "base_uri": "https://localhost:8080/",
          "height": 206
        },
        "id": "YhkenYi4kl8w",
        "outputId": "65581f59-a994-42b5-8f18-904d6ee555af"
      },
      "execution_count": null,
      "outputs": [
        {
          "output_type": "execute_result",
          "data": {
            "text/plain": [
              "EventName         DeviceIDHash            Tutorial    MainScreenAppear  \\\n",
              "161         217208764195819861                 NaT 2019-08-01 04:09:57   \n",
              "1237       1568403033187645799                 NaT 2019-08-01 12:41:55   \n",
              "1424       1807104407388801321                 NaT 2019-08-01 08:17:31   \n",
              "1484       1872850747466641334 2019-08-02 18:39:05 2019-08-03 09:02:56   \n",
              "3946       4880889469135744900                 NaT 2019-08-01 06:48:48   \n",
              "\n",
              "EventName OffersScreenAppear    CartScreenAppear PaymentScreenSuccessful  \n",
              "161                      NaT 2019-08-06 15:09:48     2019-08-06 15:14:16  \n",
              "1237                     NaT 2019-08-01 12:41:58     2019-08-01 12:42:03  \n",
              "1424                     NaT 2019-08-01 10:30:07     2019-08-01 10:33:20  \n",
              "1484                     NaT 2019-08-03 09:03:41     2019-08-05 05:52:44  \n",
              "3946                     NaT 2019-08-02 12:46:21     2019-08-02 12:46:18  "
            ],
            "text/html": [
              "\n",
              "  <div id=\"df-5ec0f28c-a660-451b-8d5d-afe8d31741c9\">\n",
              "    <div class=\"colab-df-container\">\n",
              "      <div>\n",
              "<style scoped>\n",
              "    .dataframe tbody tr th:only-of-type {\n",
              "        vertical-align: middle;\n",
              "    }\n",
              "\n",
              "    .dataframe tbody tr th {\n",
              "        vertical-align: top;\n",
              "    }\n",
              "\n",
              "    .dataframe thead th {\n",
              "        text-align: right;\n",
              "    }\n",
              "</style>\n",
              "<table border=\"1\" class=\"dataframe\">\n",
              "  <thead>\n",
              "    <tr style=\"text-align: right;\">\n",
              "      <th>EventName</th>\n",
              "      <th>DeviceIDHash</th>\n",
              "      <th>Tutorial</th>\n",
              "      <th>MainScreenAppear</th>\n",
              "      <th>OffersScreenAppear</th>\n",
              "      <th>CartScreenAppear</th>\n",
              "      <th>PaymentScreenSuccessful</th>\n",
              "    </tr>\n",
              "  </thead>\n",
              "  <tbody>\n",
              "    <tr>\n",
              "      <th>161</th>\n",
              "      <td>217208764195819861</td>\n",
              "      <td>NaT</td>\n",
              "      <td>2019-08-01 04:09:57</td>\n",
              "      <td>NaT</td>\n",
              "      <td>2019-08-06 15:09:48</td>\n",
              "      <td>2019-08-06 15:14:16</td>\n",
              "    </tr>\n",
              "    <tr>\n",
              "      <th>1237</th>\n",
              "      <td>1568403033187645799</td>\n",
              "      <td>NaT</td>\n",
              "      <td>2019-08-01 12:41:55</td>\n",
              "      <td>NaT</td>\n",
              "      <td>2019-08-01 12:41:58</td>\n",
              "      <td>2019-08-01 12:42:03</td>\n",
              "    </tr>\n",
              "    <tr>\n",
              "      <th>1424</th>\n",
              "      <td>1807104407388801321</td>\n",
              "      <td>NaT</td>\n",
              "      <td>2019-08-01 08:17:31</td>\n",
              "      <td>NaT</td>\n",
              "      <td>2019-08-01 10:30:07</td>\n",
              "      <td>2019-08-01 10:33:20</td>\n",
              "    </tr>\n",
              "    <tr>\n",
              "      <th>1484</th>\n",
              "      <td>1872850747466641334</td>\n",
              "      <td>2019-08-02 18:39:05</td>\n",
              "      <td>2019-08-03 09:02:56</td>\n",
              "      <td>NaT</td>\n",
              "      <td>2019-08-03 09:03:41</td>\n",
              "      <td>2019-08-05 05:52:44</td>\n",
              "    </tr>\n",
              "    <tr>\n",
              "      <th>3946</th>\n",
              "      <td>4880889469135744900</td>\n",
              "      <td>NaT</td>\n",
              "      <td>2019-08-01 06:48:48</td>\n",
              "      <td>NaT</td>\n",
              "      <td>2019-08-02 12:46:21</td>\n",
              "      <td>2019-08-02 12:46:18</td>\n",
              "    </tr>\n",
              "  </tbody>\n",
              "</table>\n",
              "</div>\n",
              "      <button class=\"colab-df-convert\" onclick=\"convertToInteractive('df-5ec0f28c-a660-451b-8d5d-afe8d31741c9')\"\n",
              "              title=\"Convert this dataframe to an interactive table.\"\n",
              "              style=\"display:none;\">\n",
              "        \n",
              "  <svg xmlns=\"http://www.w3.org/2000/svg\" height=\"24px\"viewBox=\"0 0 24 24\"\n",
              "       width=\"24px\">\n",
              "    <path d=\"M0 0h24v24H0V0z\" fill=\"none\"/>\n",
              "    <path d=\"M18.56 5.44l.94 2.06.94-2.06 2.06-.94-2.06-.94-.94-2.06-.94 2.06-2.06.94zm-11 1L8.5 8.5l.94-2.06 2.06-.94-2.06-.94L8.5 2.5l-.94 2.06-2.06.94zm10 10l.94 2.06.94-2.06 2.06-.94-2.06-.94-.94-2.06-.94 2.06-2.06.94z\"/><path d=\"M17.41 7.96l-1.37-1.37c-.4-.4-.92-.59-1.43-.59-.52 0-1.04.2-1.43.59L10.3 9.45l-7.72 7.72c-.78.78-.78 2.05 0 2.83L4 21.41c.39.39.9.59 1.41.59.51 0 1.02-.2 1.41-.59l7.78-7.78 2.81-2.81c.8-.78.8-2.07 0-2.86zM5.41 20L4 18.59l7.72-7.72 1.47 1.35L5.41 20z\"/>\n",
              "  </svg>\n",
              "      </button>\n",
              "      \n",
              "  <style>\n",
              "    .colab-df-container {\n",
              "      display:flex;\n",
              "      flex-wrap:wrap;\n",
              "      gap: 12px;\n",
              "    }\n",
              "\n",
              "    .colab-df-convert {\n",
              "      background-color: #E8F0FE;\n",
              "      border: none;\n",
              "      border-radius: 50%;\n",
              "      cursor: pointer;\n",
              "      display: none;\n",
              "      fill: #1967D2;\n",
              "      height: 32px;\n",
              "      padding: 0 0 0 0;\n",
              "      width: 32px;\n",
              "    }\n",
              "\n",
              "    .colab-df-convert:hover {\n",
              "      background-color: #E2EBFA;\n",
              "      box-shadow: 0px 1px 2px rgba(60, 64, 67, 0.3), 0px 1px 3px 1px rgba(60, 64, 67, 0.15);\n",
              "      fill: #174EA6;\n",
              "    }\n",
              "\n",
              "    [theme=dark] .colab-df-convert {\n",
              "      background-color: #3B4455;\n",
              "      fill: #D2E3FC;\n",
              "    }\n",
              "\n",
              "    [theme=dark] .colab-df-convert:hover {\n",
              "      background-color: #434B5C;\n",
              "      box-shadow: 0px 1px 3px 1px rgba(0, 0, 0, 0.15);\n",
              "      filter: drop-shadow(0px 1px 2px rgba(0, 0, 0, 0.3));\n",
              "      fill: #FFFFFF;\n",
              "    }\n",
              "  </style>\n",
              "\n",
              "      <script>\n",
              "        const buttonEl =\n",
              "          document.querySelector('#df-5ec0f28c-a660-451b-8d5d-afe8d31741c9 button.colab-df-convert');\n",
              "        buttonEl.style.display =\n",
              "          google.colab.kernel.accessAllowed ? 'block' : 'none';\n",
              "\n",
              "        async function convertToInteractive(key) {\n",
              "          const element = document.querySelector('#df-5ec0f28c-a660-451b-8d5d-afe8d31741c9');\n",
              "          const dataTable =\n",
              "            await google.colab.kernel.invokeFunction('convertToInteractive',\n",
              "                                                     [key], {});\n",
              "          if (!dataTable) return;\n",
              "\n",
              "          const docLinkHtml = 'Like what you see? Visit the ' +\n",
              "            '<a target=\"_blank\" href=https://colab.research.google.com/notebooks/data_table.ipynb>data table notebook</a>'\n",
              "            + ' to learn more about interactive tables.';\n",
              "          element.innerHTML = '';\n",
              "          dataTable['output_type'] = 'display_data';\n",
              "          await google.colab.output.renderOutput(dataTable, element);\n",
              "          const docLink = document.createElement('div');\n",
              "          docLink.innerHTML = docLinkHtml;\n",
              "          element.appendChild(docLink);\n",
              "        }\n",
              "      </script>\n",
              "    </div>\n",
              "  </div>\n",
              "  "
            ]
          },
          "metadata": {},
          "execution_count": 18
        }
      ]
    },
    {
      "cell_type": "markdown",
      "source": [
        "Ternyata dugaan saya salah. Karena pada data yang difilter diatas menunjukan ada pengguna yang tidak melalui peristwa `OffersScreenAppear`."
      ],
      "metadata": {
        "id": "F-9aWsYruJWc"
      }
    },
    {
      "cell_type": "code",
      "source": [
        "users_event_tbl.loc[(~users_event_tbl['PaymentScreenSuccessful'].isna()) & (users_event_tbl['CartScreenAppear'].isna())].head()"
      ],
      "metadata": {
        "colab": {
          "base_uri": "https://localhost:8080/",
          "height": 206
        },
        "id": "Hael3dIok0Bk",
        "outputId": "a38e8ab0-daf6-435b-9610-c7f4c23cd565"
      },
      "execution_count": null,
      "outputs": [
        {
          "output_type": "execute_result",
          "data": {
            "text/plain": [
              "EventName         DeviceIDHash Tutorial    MainScreenAppear  \\\n",
              "1999       2546485934419825851      NaT 2019-08-01 12:07:52   \n",
              "2249       2842450591691869422      NaT 2019-08-01 10:39:21   \n",
              "2895       3626993001520930273      NaT 2019-08-01 12:17:31   \n",
              "3618       4518329927200442683      NaT 2019-08-04 09:17:51   \n",
              "4515       5624421956850672353      NaT 2019-08-03 06:29:30   \n",
              "\n",
              "EventName  OffersScreenAppear CartScreenAppear PaymentScreenSuccessful  \n",
              "1999      2019-08-01 12:08:17              NaT     2019-08-01 12:08:16  \n",
              "2249      2019-08-04 08:59:21              NaT     2019-08-01 10:39:29  \n",
              "2895      2019-08-01 12:17:38              NaT     2019-08-01 12:17:33  \n",
              "3618      2019-08-04 09:17:58              NaT     2019-08-04 09:17:45  \n",
              "4515      2019-08-03 11:53:26              NaT     2019-08-03 11:53:22  "
            ],
            "text/html": [
              "\n",
              "  <div id=\"df-35d3c407-a1b7-4201-a799-4d15568b8787\">\n",
              "    <div class=\"colab-df-container\">\n",
              "      <div>\n",
              "<style scoped>\n",
              "    .dataframe tbody tr th:only-of-type {\n",
              "        vertical-align: middle;\n",
              "    }\n",
              "\n",
              "    .dataframe tbody tr th {\n",
              "        vertical-align: top;\n",
              "    }\n",
              "\n",
              "    .dataframe thead th {\n",
              "        text-align: right;\n",
              "    }\n",
              "</style>\n",
              "<table border=\"1\" class=\"dataframe\">\n",
              "  <thead>\n",
              "    <tr style=\"text-align: right;\">\n",
              "      <th>EventName</th>\n",
              "      <th>DeviceIDHash</th>\n",
              "      <th>Tutorial</th>\n",
              "      <th>MainScreenAppear</th>\n",
              "      <th>OffersScreenAppear</th>\n",
              "      <th>CartScreenAppear</th>\n",
              "      <th>PaymentScreenSuccessful</th>\n",
              "    </tr>\n",
              "  </thead>\n",
              "  <tbody>\n",
              "    <tr>\n",
              "      <th>1999</th>\n",
              "      <td>2546485934419825851</td>\n",
              "      <td>NaT</td>\n",
              "      <td>2019-08-01 12:07:52</td>\n",
              "      <td>2019-08-01 12:08:17</td>\n",
              "      <td>NaT</td>\n",
              "      <td>2019-08-01 12:08:16</td>\n",
              "    </tr>\n",
              "    <tr>\n",
              "      <th>2249</th>\n",
              "      <td>2842450591691869422</td>\n",
              "      <td>NaT</td>\n",
              "      <td>2019-08-01 10:39:21</td>\n",
              "      <td>2019-08-04 08:59:21</td>\n",
              "      <td>NaT</td>\n",
              "      <td>2019-08-01 10:39:29</td>\n",
              "    </tr>\n",
              "    <tr>\n",
              "      <th>2895</th>\n",
              "      <td>3626993001520930273</td>\n",
              "      <td>NaT</td>\n",
              "      <td>2019-08-01 12:17:31</td>\n",
              "      <td>2019-08-01 12:17:38</td>\n",
              "      <td>NaT</td>\n",
              "      <td>2019-08-01 12:17:33</td>\n",
              "    </tr>\n",
              "    <tr>\n",
              "      <th>3618</th>\n",
              "      <td>4518329927200442683</td>\n",
              "      <td>NaT</td>\n",
              "      <td>2019-08-04 09:17:51</td>\n",
              "      <td>2019-08-04 09:17:58</td>\n",
              "      <td>NaT</td>\n",
              "      <td>2019-08-04 09:17:45</td>\n",
              "    </tr>\n",
              "    <tr>\n",
              "      <th>4515</th>\n",
              "      <td>5624421956850672353</td>\n",
              "      <td>NaT</td>\n",
              "      <td>2019-08-03 06:29:30</td>\n",
              "      <td>2019-08-03 11:53:26</td>\n",
              "      <td>NaT</td>\n",
              "      <td>2019-08-03 11:53:22</td>\n",
              "    </tr>\n",
              "  </tbody>\n",
              "</table>\n",
              "</div>\n",
              "      <button class=\"colab-df-convert\" onclick=\"convertToInteractive('df-35d3c407-a1b7-4201-a799-4d15568b8787')\"\n",
              "              title=\"Convert this dataframe to an interactive table.\"\n",
              "              style=\"display:none;\">\n",
              "        \n",
              "  <svg xmlns=\"http://www.w3.org/2000/svg\" height=\"24px\"viewBox=\"0 0 24 24\"\n",
              "       width=\"24px\">\n",
              "    <path d=\"M0 0h24v24H0V0z\" fill=\"none\"/>\n",
              "    <path d=\"M18.56 5.44l.94 2.06.94-2.06 2.06-.94-2.06-.94-.94-2.06-.94 2.06-2.06.94zm-11 1L8.5 8.5l.94-2.06 2.06-.94-2.06-.94L8.5 2.5l-.94 2.06-2.06.94zm10 10l.94 2.06.94-2.06 2.06-.94-2.06-.94-.94-2.06-.94 2.06-2.06.94z\"/><path d=\"M17.41 7.96l-1.37-1.37c-.4-.4-.92-.59-1.43-.59-.52 0-1.04.2-1.43.59L10.3 9.45l-7.72 7.72c-.78.78-.78 2.05 0 2.83L4 21.41c.39.39.9.59 1.41.59.51 0 1.02-.2 1.41-.59l7.78-7.78 2.81-2.81c.8-.78.8-2.07 0-2.86zM5.41 20L4 18.59l7.72-7.72 1.47 1.35L5.41 20z\"/>\n",
              "  </svg>\n",
              "      </button>\n",
              "      \n",
              "  <style>\n",
              "    .colab-df-container {\n",
              "      display:flex;\n",
              "      flex-wrap:wrap;\n",
              "      gap: 12px;\n",
              "    }\n",
              "\n",
              "    .colab-df-convert {\n",
              "      background-color: #E8F0FE;\n",
              "      border: none;\n",
              "      border-radius: 50%;\n",
              "      cursor: pointer;\n",
              "      display: none;\n",
              "      fill: #1967D2;\n",
              "      height: 32px;\n",
              "      padding: 0 0 0 0;\n",
              "      width: 32px;\n",
              "    }\n",
              "\n",
              "    .colab-df-convert:hover {\n",
              "      background-color: #E2EBFA;\n",
              "      box-shadow: 0px 1px 2px rgba(60, 64, 67, 0.3), 0px 1px 3px 1px rgba(60, 64, 67, 0.15);\n",
              "      fill: #174EA6;\n",
              "    }\n",
              "\n",
              "    [theme=dark] .colab-df-convert {\n",
              "      background-color: #3B4455;\n",
              "      fill: #D2E3FC;\n",
              "    }\n",
              "\n",
              "    [theme=dark] .colab-df-convert:hover {\n",
              "      background-color: #434B5C;\n",
              "      box-shadow: 0px 1px 3px 1px rgba(0, 0, 0, 0.15);\n",
              "      filter: drop-shadow(0px 1px 2px rgba(0, 0, 0, 0.3));\n",
              "      fill: #FFFFFF;\n",
              "    }\n",
              "  </style>\n",
              "\n",
              "      <script>\n",
              "        const buttonEl =\n",
              "          document.querySelector('#df-35d3c407-a1b7-4201-a799-4d15568b8787 button.colab-df-convert');\n",
              "        buttonEl.style.display =\n",
              "          google.colab.kernel.accessAllowed ? 'block' : 'none';\n",
              "\n",
              "        async function convertToInteractive(key) {\n",
              "          const element = document.querySelector('#df-35d3c407-a1b7-4201-a799-4d15568b8787');\n",
              "          const dataTable =\n",
              "            await google.colab.kernel.invokeFunction('convertToInteractive',\n",
              "                                                     [key], {});\n",
              "          if (!dataTable) return;\n",
              "\n",
              "          const docLinkHtml = 'Like what you see? Visit the ' +\n",
              "            '<a target=\"_blank\" href=https://colab.research.google.com/notebooks/data_table.ipynb>data table notebook</a>'\n",
              "            + ' to learn more about interactive tables.';\n",
              "          element.innerHTML = '';\n",
              "          dataTable['output_type'] = 'display_data';\n",
              "          await google.colab.output.renderOutput(dataTable, element);\n",
              "          const docLink = document.createElement('div');\n",
              "          docLink.innerHTML = docLinkHtml;\n",
              "          element.appendChild(docLink);\n",
              "        }\n",
              "      </script>\n",
              "    </div>\n",
              "  </div>\n",
              "  "
            ]
          },
          "metadata": {},
          "execution_count": 19
        }
      ]
    },
    {
      "cell_type": "markdown",
      "source": [
        "Ternyata dugaan saya juga kembali salah, karena ada pengguna yang tidak melalui peristiwa `CartScreenAppear`."
      ],
      "metadata": {
        "id": "Zgra8G8uvYeM"
      }
    },
    {
      "cell_type": "code",
      "source": [
        "users_event_tbl.loc[(~users_event_tbl['PaymentScreenSuccessful'].isna()) & (users_event_tbl['MainScreenAppear'].isna())].head()"
      ],
      "metadata": {
        "id": "mkZlHNEsnmH0",
        "colab": {
          "base_uri": "https://localhost:8080/",
          "height": 206
        },
        "outputId": "abb1cfaa-43d7-4d40-c408-04c049c9412e"
      },
      "execution_count": null,
      "outputs": [
        {
          "output_type": "execute_result",
          "data": {
            "text/plain": [
              "EventName        DeviceIDHash Tutorial MainScreenAppear  OffersScreenAppear  \\\n",
              "54          74158328448226259      NaT              NaT 2019-08-01 09:32:07   \n",
              "86         111394506613435756      NaT              NaT 2019-08-02 15:17:28   \n",
              "160        214966247576341063      NaT              NaT 2019-08-01 07:02:56   \n",
              "196        261817378841141406      NaT              NaT 2019-08-02 10:36:09   \n",
              "248        332529825412858125      NaT              NaT 2019-08-01 07:13:37   \n",
              "\n",
              "EventName    CartScreenAppear PaymentScreenSuccessful  \n",
              "54        2019-08-01 09:32:03     2019-08-01 09:32:02  \n",
              "86        2019-08-02 15:17:27     2019-08-02 15:17:25  \n",
              "160       2019-08-01 07:04:01     2019-08-01 07:04:00  \n",
              "196       2019-08-02 10:36:04     2019-08-02 10:36:03  \n",
              "248       2019-08-01 07:13:44     2019-08-01 16:06:20  "
            ],
            "text/html": [
              "\n",
              "  <div id=\"df-64ffb1cf-9fd0-451d-b4c7-43798195407a\">\n",
              "    <div class=\"colab-df-container\">\n",
              "      <div>\n",
              "<style scoped>\n",
              "    .dataframe tbody tr th:only-of-type {\n",
              "        vertical-align: middle;\n",
              "    }\n",
              "\n",
              "    .dataframe tbody tr th {\n",
              "        vertical-align: top;\n",
              "    }\n",
              "\n",
              "    .dataframe thead th {\n",
              "        text-align: right;\n",
              "    }\n",
              "</style>\n",
              "<table border=\"1\" class=\"dataframe\">\n",
              "  <thead>\n",
              "    <tr style=\"text-align: right;\">\n",
              "      <th>EventName</th>\n",
              "      <th>DeviceIDHash</th>\n",
              "      <th>Tutorial</th>\n",
              "      <th>MainScreenAppear</th>\n",
              "      <th>OffersScreenAppear</th>\n",
              "      <th>CartScreenAppear</th>\n",
              "      <th>PaymentScreenSuccessful</th>\n",
              "    </tr>\n",
              "  </thead>\n",
              "  <tbody>\n",
              "    <tr>\n",
              "      <th>54</th>\n",
              "      <td>74158328448226259</td>\n",
              "      <td>NaT</td>\n",
              "      <td>NaT</td>\n",
              "      <td>2019-08-01 09:32:07</td>\n",
              "      <td>2019-08-01 09:32:03</td>\n",
              "      <td>2019-08-01 09:32:02</td>\n",
              "    </tr>\n",
              "    <tr>\n",
              "      <th>86</th>\n",
              "      <td>111394506613435756</td>\n",
              "      <td>NaT</td>\n",
              "      <td>NaT</td>\n",
              "      <td>2019-08-02 15:17:28</td>\n",
              "      <td>2019-08-02 15:17:27</td>\n",
              "      <td>2019-08-02 15:17:25</td>\n",
              "    </tr>\n",
              "    <tr>\n",
              "      <th>160</th>\n",
              "      <td>214966247576341063</td>\n",
              "      <td>NaT</td>\n",
              "      <td>NaT</td>\n",
              "      <td>2019-08-01 07:02:56</td>\n",
              "      <td>2019-08-01 07:04:01</td>\n",
              "      <td>2019-08-01 07:04:00</td>\n",
              "    </tr>\n",
              "    <tr>\n",
              "      <th>196</th>\n",
              "      <td>261817378841141406</td>\n",
              "      <td>NaT</td>\n",
              "      <td>NaT</td>\n",
              "      <td>2019-08-02 10:36:09</td>\n",
              "      <td>2019-08-02 10:36:04</td>\n",
              "      <td>2019-08-02 10:36:03</td>\n",
              "    </tr>\n",
              "    <tr>\n",
              "      <th>248</th>\n",
              "      <td>332529825412858125</td>\n",
              "      <td>NaT</td>\n",
              "      <td>NaT</td>\n",
              "      <td>2019-08-01 07:13:37</td>\n",
              "      <td>2019-08-01 07:13:44</td>\n",
              "      <td>2019-08-01 16:06:20</td>\n",
              "    </tr>\n",
              "  </tbody>\n",
              "</table>\n",
              "</div>\n",
              "      <button class=\"colab-df-convert\" onclick=\"convertToInteractive('df-64ffb1cf-9fd0-451d-b4c7-43798195407a')\"\n",
              "              title=\"Convert this dataframe to an interactive table.\"\n",
              "              style=\"display:none;\">\n",
              "        \n",
              "  <svg xmlns=\"http://www.w3.org/2000/svg\" height=\"24px\"viewBox=\"0 0 24 24\"\n",
              "       width=\"24px\">\n",
              "    <path d=\"M0 0h24v24H0V0z\" fill=\"none\"/>\n",
              "    <path d=\"M18.56 5.44l.94 2.06.94-2.06 2.06-.94-2.06-.94-.94-2.06-.94 2.06-2.06.94zm-11 1L8.5 8.5l.94-2.06 2.06-.94-2.06-.94L8.5 2.5l-.94 2.06-2.06.94zm10 10l.94 2.06.94-2.06 2.06-.94-2.06-.94-.94-2.06-.94 2.06-2.06.94z\"/><path d=\"M17.41 7.96l-1.37-1.37c-.4-.4-.92-.59-1.43-.59-.52 0-1.04.2-1.43.59L10.3 9.45l-7.72 7.72c-.78.78-.78 2.05 0 2.83L4 21.41c.39.39.9.59 1.41.59.51 0 1.02-.2 1.41-.59l7.78-7.78 2.81-2.81c.8-.78.8-2.07 0-2.86zM5.41 20L4 18.59l7.72-7.72 1.47 1.35L5.41 20z\"/>\n",
              "  </svg>\n",
              "      </button>\n",
              "      \n",
              "  <style>\n",
              "    .colab-df-container {\n",
              "      display:flex;\n",
              "      flex-wrap:wrap;\n",
              "      gap: 12px;\n",
              "    }\n",
              "\n",
              "    .colab-df-convert {\n",
              "      background-color: #E8F0FE;\n",
              "      border: none;\n",
              "      border-radius: 50%;\n",
              "      cursor: pointer;\n",
              "      display: none;\n",
              "      fill: #1967D2;\n",
              "      height: 32px;\n",
              "      padding: 0 0 0 0;\n",
              "      width: 32px;\n",
              "    }\n",
              "\n",
              "    .colab-df-convert:hover {\n",
              "      background-color: #E2EBFA;\n",
              "      box-shadow: 0px 1px 2px rgba(60, 64, 67, 0.3), 0px 1px 3px 1px rgba(60, 64, 67, 0.15);\n",
              "      fill: #174EA6;\n",
              "    }\n",
              "\n",
              "    [theme=dark] .colab-df-convert {\n",
              "      background-color: #3B4455;\n",
              "      fill: #D2E3FC;\n",
              "    }\n",
              "\n",
              "    [theme=dark] .colab-df-convert:hover {\n",
              "      background-color: #434B5C;\n",
              "      box-shadow: 0px 1px 3px 1px rgba(0, 0, 0, 0.15);\n",
              "      filter: drop-shadow(0px 1px 2px rgba(0, 0, 0, 0.3));\n",
              "      fill: #FFFFFF;\n",
              "    }\n",
              "  </style>\n",
              "\n",
              "      <script>\n",
              "        const buttonEl =\n",
              "          document.querySelector('#df-64ffb1cf-9fd0-451d-b4c7-43798195407a button.colab-df-convert');\n",
              "        buttonEl.style.display =\n",
              "          google.colab.kernel.accessAllowed ? 'block' : 'none';\n",
              "\n",
              "        async function convertToInteractive(key) {\n",
              "          const element = document.querySelector('#df-64ffb1cf-9fd0-451d-b4c7-43798195407a');\n",
              "          const dataTable =\n",
              "            await google.colab.kernel.invokeFunction('convertToInteractive',\n",
              "                                                     [key], {});\n",
              "          if (!dataTable) return;\n",
              "\n",
              "          const docLinkHtml = 'Like what you see? Visit the ' +\n",
              "            '<a target=\"_blank\" href=https://colab.research.google.com/notebooks/data_table.ipynb>data table notebook</a>'\n",
              "            + ' to learn more about interactive tables.';\n",
              "          element.innerHTML = '';\n",
              "          dataTable['output_type'] = 'display_data';\n",
              "          await google.colab.output.renderOutput(dataTable, element);\n",
              "          const docLink = document.createElement('div');\n",
              "          docLink.innerHTML = docLinkHtml;\n",
              "          element.appendChild(docLink);\n",
              "        }\n",
              "      </script>\n",
              "    </div>\n",
              "  </div>\n",
              "  "
            ]
          },
          "metadata": {},
          "execution_count": 20
        }
      ]
    },
    {
      "cell_type": "markdown",
      "source": [
        "Ternyata dugaan saya juga kembali salah, bahkan ada pengguna yang tidak melalui peristiwa `MainScreenAppear`. Dari ketiga temuan diatas artinya banyak user yang mengakses peristiwa secara tidak berurutan dan bertahap. "
      ],
      "metadata": {
        "id": "xN6WF0Hcv1ng"
      }
    },
    {
      "cell_type": "code",
      "source": [
        "users_event_tbl1 = users_event_tbl.loc[(~users_event_tbl['MainScreenAppear'].isna()) & (~users_event_tbl['OffersScreenAppear'].isna())].copy()\n",
        "users_event_tbl2 = users_event_tbl1.loc[(~users_event_tbl['CartScreenAppear'].isna()) & (~users_event_tbl['PaymentScreenSuccessful'].isna())].copy()\n",
        "users_event_tbl2.head()"
      ],
      "metadata": {
        "id": "j61P-6XaodhF",
        "colab": {
          "base_uri": "https://localhost:8080/",
          "height": 206
        },
        "outputId": "e8a42493-e159-4bf0-c637-eac353487a76"
      },
      "execution_count": null,
      "outputs": [
        {
          "output_type": "execute_result",
          "data": {
            "text/plain": [
              "EventName       DeviceIDHash            Tutorial    MainScreenAppear  \\\n",
              "1           6909561520679493                 NaT 2019-08-06 18:52:54   \n",
              "2           6922444491712477                 NaT 2019-08-04 14:19:33   \n",
              "4           7702139951469979                 NaT 2019-08-01 04:29:54   \n",
              "7           9841258664663090 2019-08-03 10:47:28 2019-08-03 10:47:59   \n",
              "9          15708180189885246                 NaT 2019-08-01 16:08:23   \n",
              "\n",
              "EventName  OffersScreenAppear    CartScreenAppear PaymentScreenSuccessful  \n",
              "1         2019-08-06 18:53:04 2019-08-06 18:52:58     2019-08-06 18:52:58  \n",
              "2         2019-08-04 14:19:46 2019-08-04 14:19:40     2019-08-04 14:19:40  \n",
              "4         2019-08-01 04:29:56 2019-08-02 14:28:45     2019-08-02 14:28:45  \n",
              "7         2019-08-03 10:49:42 2019-08-03 10:52:15     2019-08-03 17:57:27  \n",
              "9         2019-08-01 05:38:55 2019-08-01 11:06:19     2019-08-01 11:06:19  "
            ],
            "text/html": [
              "\n",
              "  <div id=\"df-3429a0c4-cb97-4caf-ba08-645d5f05ced7\">\n",
              "    <div class=\"colab-df-container\">\n",
              "      <div>\n",
              "<style scoped>\n",
              "    .dataframe tbody tr th:only-of-type {\n",
              "        vertical-align: middle;\n",
              "    }\n",
              "\n",
              "    .dataframe tbody tr th {\n",
              "        vertical-align: top;\n",
              "    }\n",
              "\n",
              "    .dataframe thead th {\n",
              "        text-align: right;\n",
              "    }\n",
              "</style>\n",
              "<table border=\"1\" class=\"dataframe\">\n",
              "  <thead>\n",
              "    <tr style=\"text-align: right;\">\n",
              "      <th>EventName</th>\n",
              "      <th>DeviceIDHash</th>\n",
              "      <th>Tutorial</th>\n",
              "      <th>MainScreenAppear</th>\n",
              "      <th>OffersScreenAppear</th>\n",
              "      <th>CartScreenAppear</th>\n",
              "      <th>PaymentScreenSuccessful</th>\n",
              "    </tr>\n",
              "  </thead>\n",
              "  <tbody>\n",
              "    <tr>\n",
              "      <th>1</th>\n",
              "      <td>6909561520679493</td>\n",
              "      <td>NaT</td>\n",
              "      <td>2019-08-06 18:52:54</td>\n",
              "      <td>2019-08-06 18:53:04</td>\n",
              "      <td>2019-08-06 18:52:58</td>\n",
              "      <td>2019-08-06 18:52:58</td>\n",
              "    </tr>\n",
              "    <tr>\n",
              "      <th>2</th>\n",
              "      <td>6922444491712477</td>\n",
              "      <td>NaT</td>\n",
              "      <td>2019-08-04 14:19:33</td>\n",
              "      <td>2019-08-04 14:19:46</td>\n",
              "      <td>2019-08-04 14:19:40</td>\n",
              "      <td>2019-08-04 14:19:40</td>\n",
              "    </tr>\n",
              "    <tr>\n",
              "      <th>4</th>\n",
              "      <td>7702139951469979</td>\n",
              "      <td>NaT</td>\n",
              "      <td>2019-08-01 04:29:54</td>\n",
              "      <td>2019-08-01 04:29:56</td>\n",
              "      <td>2019-08-02 14:28:45</td>\n",
              "      <td>2019-08-02 14:28:45</td>\n",
              "    </tr>\n",
              "    <tr>\n",
              "      <th>7</th>\n",
              "      <td>9841258664663090</td>\n",
              "      <td>2019-08-03 10:47:28</td>\n",
              "      <td>2019-08-03 10:47:59</td>\n",
              "      <td>2019-08-03 10:49:42</td>\n",
              "      <td>2019-08-03 10:52:15</td>\n",
              "      <td>2019-08-03 17:57:27</td>\n",
              "    </tr>\n",
              "    <tr>\n",
              "      <th>9</th>\n",
              "      <td>15708180189885246</td>\n",
              "      <td>NaT</td>\n",
              "      <td>2019-08-01 16:08:23</td>\n",
              "      <td>2019-08-01 05:38:55</td>\n",
              "      <td>2019-08-01 11:06:19</td>\n",
              "      <td>2019-08-01 11:06:19</td>\n",
              "    </tr>\n",
              "  </tbody>\n",
              "</table>\n",
              "</div>\n",
              "      <button class=\"colab-df-convert\" onclick=\"convertToInteractive('df-3429a0c4-cb97-4caf-ba08-645d5f05ced7')\"\n",
              "              title=\"Convert this dataframe to an interactive table.\"\n",
              "              style=\"display:none;\">\n",
              "        \n",
              "  <svg xmlns=\"http://www.w3.org/2000/svg\" height=\"24px\"viewBox=\"0 0 24 24\"\n",
              "       width=\"24px\">\n",
              "    <path d=\"M0 0h24v24H0V0z\" fill=\"none\"/>\n",
              "    <path d=\"M18.56 5.44l.94 2.06.94-2.06 2.06-.94-2.06-.94-.94-2.06-.94 2.06-2.06.94zm-11 1L8.5 8.5l.94-2.06 2.06-.94-2.06-.94L8.5 2.5l-.94 2.06-2.06.94zm10 10l.94 2.06.94-2.06 2.06-.94-2.06-.94-.94-2.06-.94 2.06-2.06.94z\"/><path d=\"M17.41 7.96l-1.37-1.37c-.4-.4-.92-.59-1.43-.59-.52 0-1.04.2-1.43.59L10.3 9.45l-7.72 7.72c-.78.78-.78 2.05 0 2.83L4 21.41c.39.39.9.59 1.41.59.51 0 1.02-.2 1.41-.59l7.78-7.78 2.81-2.81c.8-.78.8-2.07 0-2.86zM5.41 20L4 18.59l7.72-7.72 1.47 1.35L5.41 20z\"/>\n",
              "  </svg>\n",
              "      </button>\n",
              "      \n",
              "  <style>\n",
              "    .colab-df-container {\n",
              "      display:flex;\n",
              "      flex-wrap:wrap;\n",
              "      gap: 12px;\n",
              "    }\n",
              "\n",
              "    .colab-df-convert {\n",
              "      background-color: #E8F0FE;\n",
              "      border: none;\n",
              "      border-radius: 50%;\n",
              "      cursor: pointer;\n",
              "      display: none;\n",
              "      fill: #1967D2;\n",
              "      height: 32px;\n",
              "      padding: 0 0 0 0;\n",
              "      width: 32px;\n",
              "    }\n",
              "\n",
              "    .colab-df-convert:hover {\n",
              "      background-color: #E2EBFA;\n",
              "      box-shadow: 0px 1px 2px rgba(60, 64, 67, 0.3), 0px 1px 3px 1px rgba(60, 64, 67, 0.15);\n",
              "      fill: #174EA6;\n",
              "    }\n",
              "\n",
              "    [theme=dark] .colab-df-convert {\n",
              "      background-color: #3B4455;\n",
              "      fill: #D2E3FC;\n",
              "    }\n",
              "\n",
              "    [theme=dark] .colab-df-convert:hover {\n",
              "      background-color: #434B5C;\n",
              "      box-shadow: 0px 1px 3px 1px rgba(0, 0, 0, 0.15);\n",
              "      filter: drop-shadow(0px 1px 2px rgba(0, 0, 0, 0.3));\n",
              "      fill: #FFFFFF;\n",
              "    }\n",
              "  </style>\n",
              "\n",
              "      <script>\n",
              "        const buttonEl =\n",
              "          document.querySelector('#df-3429a0c4-cb97-4caf-ba08-645d5f05ced7 button.colab-df-convert');\n",
              "        buttonEl.style.display =\n",
              "          google.colab.kernel.accessAllowed ? 'block' : 'none';\n",
              "\n",
              "        async function convertToInteractive(key) {\n",
              "          const element = document.querySelector('#df-3429a0c4-cb97-4caf-ba08-645d5f05ced7');\n",
              "          const dataTable =\n",
              "            await google.colab.kernel.invokeFunction('convertToInteractive',\n",
              "                                                     [key], {});\n",
              "          if (!dataTable) return;\n",
              "\n",
              "          const docLinkHtml = 'Like what you see? Visit the ' +\n",
              "            '<a target=\"_blank\" href=https://colab.research.google.com/notebooks/data_table.ipynb>data table notebook</a>'\n",
              "            + ' to learn more about interactive tables.';\n",
              "          element.innerHTML = '';\n",
              "          dataTable['output_type'] = 'display_data';\n",
              "          await google.colab.output.renderOutput(dataTable, element);\n",
              "          const docLink = document.createElement('div');\n",
              "          docLink.innerHTML = docLinkHtml;\n",
              "          element.appendChild(docLink);\n",
              "        }\n",
              "      </script>\n",
              "    </div>\n",
              "  </div>\n",
              "  "
            ]
          },
          "metadata": {},
          "execution_count": 21
        }
      ]
    },
    {
      "cell_type": "markdown",
      "source": [
        "Tetapi tetap ada yang aktifitas peristiwa `MainScreenAppear`, `OffersScreenAppear`, `CartScreenAppear`, dan `PaymentScreenSuccessful` yang lengkap. Oleh karena itu saya akan menghitung corong data peristiwa meskipun itu hanya sebagian dari data yang dapat diolah.  "
      ],
      "metadata": {
        "id": "uKEftL7KArnS"
      }
    },
    {
      "cell_type": "markdown",
      "source": [
        "## Corong Peristiwa"
      ],
      "metadata": {
        "id": "fFeBxcXIKCIz"
      }
    },
    {
      "cell_type": "code",
      "source": [
        "step_1 = users_event_tbl.loc[~users_event_tbl['MainScreenAppear'].isna()]\n",
        "step_2 = step_1.loc[(~step_1['OffersScreenAppear'].isna()) & (step_1['OffersScreenAppear'] >= step_1['MainScreenAppear'])]\n",
        "step_3 = step_2.loc[(~step_2['CartScreenAppear'].isna()) & (step_2['CartScreenAppear'] >= step_2['OffersScreenAppear'])]\n",
        "step_4 = step_3.loc[(~step_3['PaymentScreenSuccessful'].isna()) & (step_3['PaymentScreenSuccessful'] >= step_3['CartScreenAppear'])]\n",
        "\n",
        "n_MainScreenAppear = step_1.shape[0]\n",
        "n_OffersScreenAppear = step_2.shape[0]\n",
        "n_CartScreenAppear = step_3.shape[0]\n",
        "n_PaymentScreenSuccessful = step_4.shape[0]\n",
        "\n",
        "fig = go.Figure(go.Funnel(\n",
        "    y = ['Main Screen Appear', 'Offers Screen Appear', 'Cart Screen Appear', 'Payment Screen Successful'],\n",
        "    x = [n_MainScreenAppear, n_OffersScreenAppear, n_CartScreenAppear, n_PaymentScreenSuccessful]\n",
        "))\n",
        "\n",
        "fig.update_layout(\n",
        "    title={\n",
        "        'text':'Funnel of Event',\n",
        "        'y':0.9,\n",
        "        'x':0.5\n",
        "    }\n",
        ")\n",
        "\n",
        "fig.show()"
      ],
      "metadata": {
        "colab": {
          "base_uri": "https://localhost:8080/",
          "height": 542
        },
        "id": "wW6qYwFAqplz",
        "outputId": "af56b0b7-1375-450f-b967-058f3633b973"
      },
      "execution_count": null,
      "outputs": [
        {
          "output_type": "display_data",
          "data": {
            "text/html": [
              "<html>\n",
              "<head><meta charset=\"utf-8\" /></head>\n",
              "<body>\n",
              "    <div>            <script src=\"https://cdnjs.cloudflare.com/ajax/libs/mathjax/2.7.5/MathJax.js?config=TeX-AMS-MML_SVG\"></script><script type=\"text/javascript\">if (window.MathJax) {MathJax.Hub.Config({SVG: {font: \"STIX-Web\"}});}</script>                <script type=\"text/javascript\">window.PlotlyConfig = {MathJaxConfig: 'local'};</script>\n",
              "        <script src=\"https://cdn.plot.ly/plotly-2.8.3.min.js\"></script>                <div id=\"dd300114-2e06-4c0d-9ea8-a07d5b935879\" class=\"plotly-graph-div\" style=\"height:525px; width:100%;\"></div>            <script type=\"text/javascript\">                                    window.PLOTLYENV=window.PLOTLYENV || {};                                    if (document.getElementById(\"dd300114-2e06-4c0d-9ea8-a07d5b935879\")) {                    Plotly.newPlot(                        \"dd300114-2e06-4c0d-9ea8-a07d5b935879\",                        [{\"x\":[7419,4202,1796,1360],\"y\":[\"Main Screen Appear\",\"Offers Screen Appear\",\"Cart Screen Appear\",\"Payment Screen Successful\"],\"type\":\"funnel\"}],                        {\"template\":{\"data\":{\"bar\":[{\"error_x\":{\"color\":\"#2a3f5f\"},\"error_y\":{\"color\":\"#2a3f5f\"},\"marker\":{\"line\":{\"color\":\"#E5ECF6\",\"width\":0.5},\"pattern\":{\"fillmode\":\"overlay\",\"size\":10,\"solidity\":0.2}},\"type\":\"bar\"}],\"barpolar\":[{\"marker\":{\"line\":{\"color\":\"#E5ECF6\",\"width\":0.5},\"pattern\":{\"fillmode\":\"overlay\",\"size\":10,\"solidity\":0.2}},\"type\":\"barpolar\"}],\"carpet\":[{\"aaxis\":{\"endlinecolor\":\"#2a3f5f\",\"gridcolor\":\"white\",\"linecolor\":\"white\",\"minorgridcolor\":\"white\",\"startlinecolor\":\"#2a3f5f\"},\"baxis\":{\"endlinecolor\":\"#2a3f5f\",\"gridcolor\":\"white\",\"linecolor\":\"white\",\"minorgridcolor\":\"white\",\"startlinecolor\":\"#2a3f5f\"},\"type\":\"carpet\"}],\"choropleth\":[{\"colorbar\":{\"outlinewidth\":0,\"ticks\":\"\"},\"type\":\"choropleth\"}],\"contour\":[{\"colorbar\":{\"outlinewidth\":0,\"ticks\":\"\"},\"colorscale\":[[0.0,\"#0d0887\"],[0.1111111111111111,\"#46039f\"],[0.2222222222222222,\"#7201a8\"],[0.3333333333333333,\"#9c179e\"],[0.4444444444444444,\"#bd3786\"],[0.5555555555555556,\"#d8576b\"],[0.6666666666666666,\"#ed7953\"],[0.7777777777777778,\"#fb9f3a\"],[0.8888888888888888,\"#fdca26\"],[1.0,\"#f0f921\"]],\"type\":\"contour\"}],\"contourcarpet\":[{\"colorbar\":{\"outlinewidth\":0,\"ticks\":\"\"},\"type\":\"contourcarpet\"}],\"heatmap\":[{\"colorbar\":{\"outlinewidth\":0,\"ticks\":\"\"},\"colorscale\":[[0.0,\"#0d0887\"],[0.1111111111111111,\"#46039f\"],[0.2222222222222222,\"#7201a8\"],[0.3333333333333333,\"#9c179e\"],[0.4444444444444444,\"#bd3786\"],[0.5555555555555556,\"#d8576b\"],[0.6666666666666666,\"#ed7953\"],[0.7777777777777778,\"#fb9f3a\"],[0.8888888888888888,\"#fdca26\"],[1.0,\"#f0f921\"]],\"type\":\"heatmap\"}],\"heatmapgl\":[{\"colorbar\":{\"outlinewidth\":0,\"ticks\":\"\"},\"colorscale\":[[0.0,\"#0d0887\"],[0.1111111111111111,\"#46039f\"],[0.2222222222222222,\"#7201a8\"],[0.3333333333333333,\"#9c179e\"],[0.4444444444444444,\"#bd3786\"],[0.5555555555555556,\"#d8576b\"],[0.6666666666666666,\"#ed7953\"],[0.7777777777777778,\"#fb9f3a\"],[0.8888888888888888,\"#fdca26\"],[1.0,\"#f0f921\"]],\"type\":\"heatmapgl\"}],\"histogram\":[{\"marker\":{\"pattern\":{\"fillmode\":\"overlay\",\"size\":10,\"solidity\":0.2}},\"type\":\"histogram\"}],\"histogram2d\":[{\"colorbar\":{\"outlinewidth\":0,\"ticks\":\"\"},\"colorscale\":[[0.0,\"#0d0887\"],[0.1111111111111111,\"#46039f\"],[0.2222222222222222,\"#7201a8\"],[0.3333333333333333,\"#9c179e\"],[0.4444444444444444,\"#bd3786\"],[0.5555555555555556,\"#d8576b\"],[0.6666666666666666,\"#ed7953\"],[0.7777777777777778,\"#fb9f3a\"],[0.8888888888888888,\"#fdca26\"],[1.0,\"#f0f921\"]],\"type\":\"histogram2d\"}],\"histogram2dcontour\":[{\"colorbar\":{\"outlinewidth\":0,\"ticks\":\"\"},\"colorscale\":[[0.0,\"#0d0887\"],[0.1111111111111111,\"#46039f\"],[0.2222222222222222,\"#7201a8\"],[0.3333333333333333,\"#9c179e\"],[0.4444444444444444,\"#bd3786\"],[0.5555555555555556,\"#d8576b\"],[0.6666666666666666,\"#ed7953\"],[0.7777777777777778,\"#fb9f3a\"],[0.8888888888888888,\"#fdca26\"],[1.0,\"#f0f921\"]],\"type\":\"histogram2dcontour\"}],\"mesh3d\":[{\"colorbar\":{\"outlinewidth\":0,\"ticks\":\"\"},\"type\":\"mesh3d\"}],\"parcoords\":[{\"line\":{\"colorbar\":{\"outlinewidth\":0,\"ticks\":\"\"}},\"type\":\"parcoords\"}],\"pie\":[{\"automargin\":true,\"type\":\"pie\"}],\"scatter\":[{\"marker\":{\"colorbar\":{\"outlinewidth\":0,\"ticks\":\"\"}},\"type\":\"scatter\"}],\"scatter3d\":[{\"line\":{\"colorbar\":{\"outlinewidth\":0,\"ticks\":\"\"}},\"marker\":{\"colorbar\":{\"outlinewidth\":0,\"ticks\":\"\"}},\"type\":\"scatter3d\"}],\"scattercarpet\":[{\"marker\":{\"colorbar\":{\"outlinewidth\":0,\"ticks\":\"\"}},\"type\":\"scattercarpet\"}],\"scattergeo\":[{\"marker\":{\"colorbar\":{\"outlinewidth\":0,\"ticks\":\"\"}},\"type\":\"scattergeo\"}],\"scattergl\":[{\"marker\":{\"colorbar\":{\"outlinewidth\":0,\"ticks\":\"\"}},\"type\":\"scattergl\"}],\"scattermapbox\":[{\"marker\":{\"colorbar\":{\"outlinewidth\":0,\"ticks\":\"\"}},\"type\":\"scattermapbox\"}],\"scatterpolar\":[{\"marker\":{\"colorbar\":{\"outlinewidth\":0,\"ticks\":\"\"}},\"type\":\"scatterpolar\"}],\"scatterpolargl\":[{\"marker\":{\"colorbar\":{\"outlinewidth\":0,\"ticks\":\"\"}},\"type\":\"scatterpolargl\"}],\"scatterternary\":[{\"marker\":{\"colorbar\":{\"outlinewidth\":0,\"ticks\":\"\"}},\"type\":\"scatterternary\"}],\"surface\":[{\"colorbar\":{\"outlinewidth\":0,\"ticks\":\"\"},\"colorscale\":[[0.0,\"#0d0887\"],[0.1111111111111111,\"#46039f\"],[0.2222222222222222,\"#7201a8\"],[0.3333333333333333,\"#9c179e\"],[0.4444444444444444,\"#bd3786\"],[0.5555555555555556,\"#d8576b\"],[0.6666666666666666,\"#ed7953\"],[0.7777777777777778,\"#fb9f3a\"],[0.8888888888888888,\"#fdca26\"],[1.0,\"#f0f921\"]],\"type\":\"surface\"}],\"table\":[{\"cells\":{\"fill\":{\"color\":\"#EBF0F8\"},\"line\":{\"color\":\"white\"}},\"header\":{\"fill\":{\"color\":\"#C8D4E3\"},\"line\":{\"color\":\"white\"}},\"type\":\"table\"}]},\"layout\":{\"annotationdefaults\":{\"arrowcolor\":\"#2a3f5f\",\"arrowhead\":0,\"arrowwidth\":1},\"autotypenumbers\":\"strict\",\"coloraxis\":{\"colorbar\":{\"outlinewidth\":0,\"ticks\":\"\"}},\"colorscale\":{\"diverging\":[[0,\"#8e0152\"],[0.1,\"#c51b7d\"],[0.2,\"#de77ae\"],[0.3,\"#f1b6da\"],[0.4,\"#fde0ef\"],[0.5,\"#f7f7f7\"],[0.6,\"#e6f5d0\"],[0.7,\"#b8e186\"],[0.8,\"#7fbc41\"],[0.9,\"#4d9221\"],[1,\"#276419\"]],\"sequential\":[[0.0,\"#0d0887\"],[0.1111111111111111,\"#46039f\"],[0.2222222222222222,\"#7201a8\"],[0.3333333333333333,\"#9c179e\"],[0.4444444444444444,\"#bd3786\"],[0.5555555555555556,\"#d8576b\"],[0.6666666666666666,\"#ed7953\"],[0.7777777777777778,\"#fb9f3a\"],[0.8888888888888888,\"#fdca26\"],[1.0,\"#f0f921\"]],\"sequentialminus\":[[0.0,\"#0d0887\"],[0.1111111111111111,\"#46039f\"],[0.2222222222222222,\"#7201a8\"],[0.3333333333333333,\"#9c179e\"],[0.4444444444444444,\"#bd3786\"],[0.5555555555555556,\"#d8576b\"],[0.6666666666666666,\"#ed7953\"],[0.7777777777777778,\"#fb9f3a\"],[0.8888888888888888,\"#fdca26\"],[1.0,\"#f0f921\"]]},\"colorway\":[\"#636efa\",\"#EF553B\",\"#00cc96\",\"#ab63fa\",\"#FFA15A\",\"#19d3f3\",\"#FF6692\",\"#B6E880\",\"#FF97FF\",\"#FECB52\"],\"font\":{\"color\":\"#2a3f5f\"},\"geo\":{\"bgcolor\":\"white\",\"lakecolor\":\"white\",\"landcolor\":\"#E5ECF6\",\"showlakes\":true,\"showland\":true,\"subunitcolor\":\"white\"},\"hoverlabel\":{\"align\":\"left\"},\"hovermode\":\"closest\",\"mapbox\":{\"style\":\"light\"},\"paper_bgcolor\":\"white\",\"plot_bgcolor\":\"#E5ECF6\",\"polar\":{\"angularaxis\":{\"gridcolor\":\"white\",\"linecolor\":\"white\",\"ticks\":\"\"},\"bgcolor\":\"#E5ECF6\",\"radialaxis\":{\"gridcolor\":\"white\",\"linecolor\":\"white\",\"ticks\":\"\"}},\"scene\":{\"xaxis\":{\"backgroundcolor\":\"#E5ECF6\",\"gridcolor\":\"white\",\"gridwidth\":2,\"linecolor\":\"white\",\"showbackground\":true,\"ticks\":\"\",\"zerolinecolor\":\"white\"},\"yaxis\":{\"backgroundcolor\":\"#E5ECF6\",\"gridcolor\":\"white\",\"gridwidth\":2,\"linecolor\":\"white\",\"showbackground\":true,\"ticks\":\"\",\"zerolinecolor\":\"white\"},\"zaxis\":{\"backgroundcolor\":\"#E5ECF6\",\"gridcolor\":\"white\",\"gridwidth\":2,\"linecolor\":\"white\",\"showbackground\":true,\"ticks\":\"\",\"zerolinecolor\":\"white\"}},\"shapedefaults\":{\"line\":{\"color\":\"#2a3f5f\"}},\"ternary\":{\"aaxis\":{\"gridcolor\":\"white\",\"linecolor\":\"white\",\"ticks\":\"\"},\"baxis\":{\"gridcolor\":\"white\",\"linecolor\":\"white\",\"ticks\":\"\"},\"bgcolor\":\"#E5ECF6\",\"caxis\":{\"gridcolor\":\"white\",\"linecolor\":\"white\",\"ticks\":\"\"}},\"title\":{\"x\":0.05},\"xaxis\":{\"automargin\":true,\"gridcolor\":\"white\",\"linecolor\":\"white\",\"ticks\":\"\",\"title\":{\"standoff\":15},\"zerolinecolor\":\"white\",\"zerolinewidth\":2},\"yaxis\":{\"automargin\":true,\"gridcolor\":\"white\",\"linecolor\":\"white\",\"ticks\":\"\",\"title\":{\"standoff\":15},\"zerolinecolor\":\"white\",\"zerolinewidth\":2}}},\"title\":{\"text\":\"Funnel of Event\",\"y\":0.9,\"x\":0.5}},                        {\"responsive\": true}                    ).then(function(){\n",
              "                            \n",
              "var gd = document.getElementById('dd300114-2e06-4c0d-9ea8-a07d5b935879');\n",
              "var x = new MutationObserver(function (mutations, observer) {{\n",
              "        var display = window.getComputedStyle(gd).display;\n",
              "        if (!display || display === 'none') {{\n",
              "            console.log([gd, 'removed!']);\n",
              "            Plotly.purge(gd);\n",
              "            observer.disconnect();\n",
              "        }}\n",
              "}});\n",
              "\n",
              "// Listen for the removal of the full notebook cells\n",
              "var notebookContainer = gd.closest('#notebook-container');\n",
              "if (notebookContainer) {{\n",
              "    x.observe(notebookContainer, {childList: true});\n",
              "}}\n",
              "\n",
              "// Listen for the clearing of the current output cell\n",
              "var outputEl = gd.closest('.output');\n",
              "if (outputEl) {{\n",
              "    x.observe(outputEl, {childList: true});\n",
              "}}\n",
              "\n",
              "                        })                };                            </script>        </div>\n",
              "</body>\n",
              "</html>"
            ]
          },
          "metadata": {}
        }
      ]
    },
    {
      "cell_type": "markdown",
      "source": [
        "Dari seluruh dataset yang tersisa hanya `7,419` user dan dari visualisasi `funnel` diatas menunjukan ada `1,360` user yang berhasil melakukan pembelian yang secara persentase adalah `9.2%` dari total jumlah user didalam dataset ini. \n",
        "\n",
        "Selain itu tahap yang paling banyak kehilangan pengguna adalah pada tahap `Cart Screen Appear`, yang mana ada `1,796` user bertahan atau `42.7%` dibandingkan peristiwa awal. Dan jika dibandingkan jumlah total user didalam dataset persentasenya adalah `24.2%` user yang bertahan.\n",
        "\n",
        "Sebaliknya tahap yang paling sedikit kehilangan pengguna jika dibandingkan dengan peristiwa sebelumnya adalah pada tahap `Payment Screen Successful`. Ada `75.7%` user yang bertahan jika dibandingkan pada peristiwa sebelumnya. Hal ini dapat dilihat sebagai *insight*. Artinya tim harus memikirkan bagaimana membuat user masuk ke tahap `Cart Screen Appear`, karena peluang user melakukan pembayaran tinggi ketika sudah memasuki tahap tersebut."
      ],
      "metadata": {
        "id": "BNlql9jlNuQL"
      }
    },
    {
      "cell_type": "markdown",
      "source": [
        "# Analisa Data"
      ],
      "metadata": {
        "id": "F8ijMoRq1ApC"
      }
    },
    {
      "cell_type": "markdown",
      "source": [
        "## Jumlah Pengguna Per Kelompok Eksperimen"
      ],
      "metadata": {
        "id": "sPrZK0U6pWXK"
      }
    },
    {
      "cell_type": "code",
      "source": [
        "users_per_exp_id = df_1.groupby('ExpId').agg({'DeviceIDHash':'nunique'})\n",
        "users_per_exp_id.columns = ['users']\n",
        "users_per_exp_id"
      ],
      "metadata": {
        "id": "uRLo83YRGnRO",
        "colab": {
          "base_uri": "https://localhost:8080/",
          "height": 175
        },
        "outputId": "d44d2d0c-36bd-43e8-e3a0-e89085dd2fd1"
      },
      "execution_count": null,
      "outputs": [
        {
          "output_type": "execute_result",
          "data": {
            "text/plain": [
              "       users\n",
              "ExpId       \n",
              "246     2484\n",
              "247     2513\n",
              "248     2537"
            ],
            "text/html": [
              "\n",
              "  <div id=\"df-df37ea37-cb9b-4c86-969e-0e2d10978363\">\n",
              "    <div class=\"colab-df-container\">\n",
              "      <div>\n",
              "<style scoped>\n",
              "    .dataframe tbody tr th:only-of-type {\n",
              "        vertical-align: middle;\n",
              "    }\n",
              "\n",
              "    .dataframe tbody tr th {\n",
              "        vertical-align: top;\n",
              "    }\n",
              "\n",
              "    .dataframe thead th {\n",
              "        text-align: right;\n",
              "    }\n",
              "</style>\n",
              "<table border=\"1\" class=\"dataframe\">\n",
              "  <thead>\n",
              "    <tr style=\"text-align: right;\">\n",
              "      <th></th>\n",
              "      <th>users</th>\n",
              "    </tr>\n",
              "    <tr>\n",
              "      <th>ExpId</th>\n",
              "      <th></th>\n",
              "    </tr>\n",
              "  </thead>\n",
              "  <tbody>\n",
              "    <tr>\n",
              "      <th>246</th>\n",
              "      <td>2484</td>\n",
              "    </tr>\n",
              "    <tr>\n",
              "      <th>247</th>\n",
              "      <td>2513</td>\n",
              "    </tr>\n",
              "    <tr>\n",
              "      <th>248</th>\n",
              "      <td>2537</td>\n",
              "    </tr>\n",
              "  </tbody>\n",
              "</table>\n",
              "</div>\n",
              "      <button class=\"colab-df-convert\" onclick=\"convertToInteractive('df-df37ea37-cb9b-4c86-969e-0e2d10978363')\"\n",
              "              title=\"Convert this dataframe to an interactive table.\"\n",
              "              style=\"display:none;\">\n",
              "        \n",
              "  <svg xmlns=\"http://www.w3.org/2000/svg\" height=\"24px\"viewBox=\"0 0 24 24\"\n",
              "       width=\"24px\">\n",
              "    <path d=\"M0 0h24v24H0V0z\" fill=\"none\"/>\n",
              "    <path d=\"M18.56 5.44l.94 2.06.94-2.06 2.06-.94-2.06-.94-.94-2.06-.94 2.06-2.06.94zm-11 1L8.5 8.5l.94-2.06 2.06-.94-2.06-.94L8.5 2.5l-.94 2.06-2.06.94zm10 10l.94 2.06.94-2.06 2.06-.94-2.06-.94-.94-2.06-.94 2.06-2.06.94z\"/><path d=\"M17.41 7.96l-1.37-1.37c-.4-.4-.92-.59-1.43-.59-.52 0-1.04.2-1.43.59L10.3 9.45l-7.72 7.72c-.78.78-.78 2.05 0 2.83L4 21.41c.39.39.9.59 1.41.59.51 0 1.02-.2 1.41-.59l7.78-7.78 2.81-2.81c.8-.78.8-2.07 0-2.86zM5.41 20L4 18.59l7.72-7.72 1.47 1.35L5.41 20z\"/>\n",
              "  </svg>\n",
              "      </button>\n",
              "      \n",
              "  <style>\n",
              "    .colab-df-container {\n",
              "      display:flex;\n",
              "      flex-wrap:wrap;\n",
              "      gap: 12px;\n",
              "    }\n",
              "\n",
              "    .colab-df-convert {\n",
              "      background-color: #E8F0FE;\n",
              "      border: none;\n",
              "      border-radius: 50%;\n",
              "      cursor: pointer;\n",
              "      display: none;\n",
              "      fill: #1967D2;\n",
              "      height: 32px;\n",
              "      padding: 0 0 0 0;\n",
              "      width: 32px;\n",
              "    }\n",
              "\n",
              "    .colab-df-convert:hover {\n",
              "      background-color: #E2EBFA;\n",
              "      box-shadow: 0px 1px 2px rgba(60, 64, 67, 0.3), 0px 1px 3px 1px rgba(60, 64, 67, 0.15);\n",
              "      fill: #174EA6;\n",
              "    }\n",
              "\n",
              "    [theme=dark] .colab-df-convert {\n",
              "      background-color: #3B4455;\n",
              "      fill: #D2E3FC;\n",
              "    }\n",
              "\n",
              "    [theme=dark] .colab-df-convert:hover {\n",
              "      background-color: #434B5C;\n",
              "      box-shadow: 0px 1px 3px 1px rgba(0, 0, 0, 0.15);\n",
              "      filter: drop-shadow(0px 1px 2px rgba(0, 0, 0, 0.3));\n",
              "      fill: #FFFFFF;\n",
              "    }\n",
              "  </style>\n",
              "\n",
              "      <script>\n",
              "        const buttonEl =\n",
              "          document.querySelector('#df-df37ea37-cb9b-4c86-969e-0e2d10978363 button.colab-df-convert');\n",
              "        buttonEl.style.display =\n",
              "          google.colab.kernel.accessAllowed ? 'block' : 'none';\n",
              "\n",
              "        async function convertToInteractive(key) {\n",
              "          const element = document.querySelector('#df-df37ea37-cb9b-4c86-969e-0e2d10978363');\n",
              "          const dataTable =\n",
              "            await google.colab.kernel.invokeFunction('convertToInteractive',\n",
              "                                                     [key], {});\n",
              "          if (!dataTable) return;\n",
              "\n",
              "          const docLinkHtml = 'Like what you see? Visit the ' +\n",
              "            '<a target=\"_blank\" href=https://colab.research.google.com/notebooks/data_table.ipynb>data table notebook</a>'\n",
              "            + ' to learn more about interactive tables.';\n",
              "          element.innerHTML = '';\n",
              "          dataTable['output_type'] = 'display_data';\n",
              "          await google.colab.output.renderOutput(dataTable, element);\n",
              "          const docLink = document.createElement('div');\n",
              "          docLink.innerHTML = docLinkHtml;\n",
              "          element.appendChild(docLink);\n",
              "        }\n",
              "      </script>\n",
              "    </div>\n",
              "  </div>\n",
              "  "
            ]
          },
          "metadata": {},
          "execution_count": 23
        }
      ]
    },
    {
      "cell_type": "markdown",
      "source": [
        "Ternyata masih cukup banyak yang tersisa datatanya per kelompok kontrol dan eksperimen. Pada masing-masing kelompok kontrol ada `2,484` dan `2,513` pengguna. Dan pada kelompok uji ada `2,537`."
      ],
      "metadata": {
        "id": "rtY1M4jcpdNh"
      }
    },
    {
      "cell_type": "markdown",
      "source": [
        "## Melihat Pola Peristiwa Kelompok Kontrol "
      ],
      "metadata": {
        "id": "acA0lBS51C14"
      }
    },
    {
      "cell_type": "code",
      "source": [
        "table_control = df_1.loc[df_1['ExpId'] != 248].pivot_table(\n",
        "    index='EventName',\n",
        "    columns = 'ExpId',\n",
        "    values = 'DeviceIDHash',\n",
        "    aggfunc = 'nunique'\n",
        ")\n",
        "table_control.sort_values(by=246, ascending=False, inplace=True)\n",
        "plots = table_control.plot(kind='bar', figsize=(14,8), color=['#37284f', '#3482a4'])\n",
        "\n",
        "for bar in plots.patches:\n",
        "   \n",
        "    plots.annotate(format(bar.get_height(), '.2f'),\n",
        "                   (bar.get_x() + bar.get_width() / 2,\n",
        "                    bar.get_height()), ha='center', va='center',\n",
        "                   size=8, xytext=(0, 8),\n",
        "                   textcoords='offset points')\n",
        "\n",
        "plt.title('Number of Users per Event by Experiment Control Group', size=16)\n",
        "plt.xlabel('Event Name', size=14)\n",
        "plt.ylabel('Number of Users', size=14)\n",
        "plt.xticks(rotation = 45)\n",
        "plt.show()"
      ],
      "metadata": {
        "colab": {
          "base_uri": "https://localhost:8080/",
          "height": 608
        },
        "id": "1bdAZM-mPEXw",
        "outputId": "7a37b5e5-dcc8-41b8-f332-6d006280be8b"
      },
      "execution_count": null,
      "outputs": [
        {
          "output_type": "display_data",
          "data": {
            "text/plain": [
              "<Figure size 1008x576 with 1 Axes>"
            ],
            "image/png": "[encoded data removed]"
          },
          "metadata": {
            "needs_background": "light"
          }
        }
      ]
    },
    {
      "cell_type": "markdown",
      "source": [
        "Peristiwa yang paling populer adalah `MainScreeAppear`, pada kelompok `246` ada sebanyak `2,450` dan pada kelompok `247` ada sebanyak `2,476`. Dari kedua peristiwa paling populer tersebut keduanya lebih kecil dari total `user` masing-masing kelompok kontrol. Artinya tidak semua `user` masuk melalui `MainScreenAppear` diawal. "
      ],
      "metadata": {
        "id": "jBGK-5gfRnvr"
      }
    },
    {
      "cell_type": "markdown",
      "source": [
        "## Menguji Statistik Peristiwa yang Populer pada Kelompok Kontrol"
      ],
      "metadata": {
        "id": "e9FP7jQR1bPL"
      }
    },
    {
      "cell_type": "markdown",
      "source": [
        "Sebelum memulai pengujian saya perlu membuat fungsi pengujian dan membuat hipotesis terlebih dahulu. Berikut hipotesisnya:\n",
        "- H0: Tidak Ada Perbedaan Proporsi Peristiwa Antara Kelompok Kontrol 246 dengan Kelompok Kontrol 247.\n",
        "- H1: Ada Perbedaan Proporsi Peristiwa Antara Kelompok Kontrol 246 dengan Kelompok Kontrol 247."
      ],
      "metadata": {
        "id": "DRmQjoJbn35-"
      }
    },
    {
      "cell_type": "code",
      "source": [
        "def check_hypothesis(successes1, successes2, trials1, trials2, alpha=0.01):\n",
        "    # proportion of successes in the first group:\n",
        "    p1 = successes1/trials1\n",
        "\n",
        "    # proportion of successes in the second group:\n",
        "    p2 = successes2/trials2\n",
        "\n",
        "    # proportion of successes in the combined dataset:\n",
        "    p_combined = (successes1 + successes2) / (trials1 + trials2)\n",
        "\n",
        "    # difference in proportions in datasets\n",
        "    difference = p1 - p2\n",
        "\n",
        "    # calculate statistics in standard deviations of the standard normal distribution\n",
        "    z_value = difference / math.sqrt(p_combined * (1 - p_combined) * (1/trials1 + 1/trials2))\n",
        "\n",
        "    # set standard normal distribution (mean 0, standard deviation 1)\n",
        "    distr = stats.norm(0, 1)\n",
        "\n",
        "    p_value = (1 - distr.cdf(abs(z_value))) * 2\n",
        "\n",
        "    print('p-value: ', p_value)\n",
        "\n",
        "    if (p_value < alpha):\n",
        "        print(\"Menolak hipotesis nol: terdapat perbedaan yang signifikan di antara proporsinya\")\n",
        "    else:\n",
        "        print(\"Gagal untuk menolak hipotesis nol: tidak ada alasan untuk mempertimbangkan bahwa proporsinya berbeda\")\n",
        "\n",
        "check_hypothesis(\n",
        "    table_control.loc['MainScreenAppear', 246], \n",
        "    table_control.loc['MainScreenAppear', 247], \n",
        "    users_per_exp_id.loc[246, 'users'], \n",
        "    users_per_exp_id.loc[247, 'users']\n",
        "  )"
      ],
      "metadata": {
        "colab": {
          "base_uri": "https://localhost:8080/"
        },
        "id": "BtL1MJFLUm-a",
        "outputId": "5e1a070d-d928-4af8-b7a3-6b19e1804d8f"
      },
      "execution_count": null,
      "outputs": [
        {
          "output_type": "stream",
          "name": "stdout",
          "text": [
            "p-value:  0.7570597232046099\n",
            "Gagal untuk menolak hipotesis nol: tidak ada alasan untuk mempertimbangkan bahwa proporsinya berbeda\n"
          ]
        }
      ]
    },
    {
      "cell_type": "markdown",
      "source": [
        "Peristiwa paling populer adalah `MainScreenAppear`, dengan alpha 0.01 gagal menolak `H0`. Karena nilai p-valuenya `0.75`, lebih besar nilai alpha. "
      ],
      "metadata": {
        "id": "gUAhF7Kfay_Q"
      }
    },
    {
      "cell_type": "markdown",
      "source": [
        "## Menguji Seluruh Peristiwa Diantara Kelompok Kontrol"
      ],
      "metadata": {
        "id": "k5xM04q1agwx"
      }
    },
    {
      "cell_type": "markdown",
      "source": [
        "Karena masih menguji kelompok kontrol, maka hipotesisnya masih sama yaitu:\n",
        "- H0: Tidak Ada Perbedaan Proporsi Peristiwa Antara Kelompok Kontrol 246 dengan Kelompok Kontrol 247.\n",
        "- H1: Ada Perbedaan Proporsi Peristiwa Antara Kelompok Kontrol 246 dengan Kelompok Kontrol 247."
      ],
      "metadata": {
        "id": "BtxijPOEq2Va"
      }
    },
    {
      "cell_type": "code",
      "source": [
        "def check_event_hypothesis(users_events_per_group, users_per_group,\n",
        "                           event,\n",
        "                           exp1, exp2\n",
        "                          ):\n",
        "    print('Peristiwa: '+ event)\n",
        "    check_hypothesis(users_events_per_group.loc[event, exp1],\n",
        "                     users_events_per_group.loc[event, exp2],\n",
        "                     users_per_group.loc[exp1],\n",
        "                     users_per_group.loc[exp2],\n",
        "                    )\n",
        "\n",
        "for event in table_control.index:\n",
        "\n",
        "  check_event_hypothesis(\n",
        "      table_control,\n",
        "      users_per_exp_id,\n",
        "      event,\n",
        "      246,\n",
        "      247\n",
        "  )\n",
        "  print('---------------------------------------------------------')"
      ],
      "metadata": {
        "colab": {
          "base_uri": "https://localhost:8080/"
        },
        "id": "zl46CwJMayMQ",
        "outputId": "7d38b8fa-4f82-480b-f702-9ed967a1a70e"
      },
      "execution_count": null,
      "outputs": [
        {
          "output_type": "stream",
          "name": "stdout",
          "text": [
            "Peristiwa: MainScreenAppear\n",
            "p-value:  [0.75705972]\n",
            "Gagal untuk menolak hipotesis nol: tidak ada alasan untuk mempertimbangkan bahwa proporsinya berbeda\n",
            "---------------------------------------------------------\n",
            "Peristiwa: OffersScreenAppear\n",
            "p-value:  [0.24809546]\n",
            "Gagal untuk menolak hipotesis nol: tidak ada alasan untuk mempertimbangkan bahwa proporsinya berbeda\n",
            "---------------------------------------------------------\n",
            "Peristiwa: CartScreenAppear\n",
            "p-value:  [0.22883372]\n",
            "Gagal untuk menolak hipotesis nol: tidak ada alasan untuk mempertimbangkan bahwa proporsinya berbeda\n",
            "---------------------------------------------------------\n",
            "Peristiwa: PaymentScreenSuccessful\n",
            "p-value:  [0.11456679]\n",
            "Gagal untuk menolak hipotesis nol: tidak ada alasan untuk mempertimbangkan bahwa proporsinya berbeda\n",
            "---------------------------------------------------------\n",
            "Peristiwa: Tutorial\n",
            "p-value:  [0.93769962]\n",
            "Gagal untuk menolak hipotesis nol: tidak ada alasan untuk mempertimbangkan bahwa proporsinya berbeda\n",
            "---------------------------------------------------------\n"
          ]
        }
      ]
    },
    {
      "cell_type": "markdown",
      "source": [
        "Berdasarkan dari uji statistik yang telah dilakukan diatas, pada seluruh peristiwa menunjukan `p-value`nya diatas dari nilai alpha. Artinya pada seluruh  peristiwa tidak ada perbedaan diantara kelompok kontrol. "
      ],
      "metadata": {
        "id": "3eK80h5sd8em"
      }
    },
    {
      "cell_type": "markdown",
      "source": [
        "## Menguji Seluruh Peristiwa Antara Kelompok Kontrol dengan Kelompok Uji"
      ],
      "metadata": {
        "id": "GjMias0ygbhp"
      }
    },
    {
      "cell_type": "code",
      "source": [
        "df_1['control_group'] = df_1['ExpId'] != 248\n",
        "df_1.head()"
      ],
      "metadata": {
        "colab": {
          "base_uri": "https://localhost:8080/",
          "height": 206
        },
        "id": "ICnmtXcWg1kA",
        "outputId": "61b370c7-9d71-45ea-a19a-b561dbb2870c"
      },
      "execution_count": null,
      "outputs": [
        {
          "output_type": "execute_result",
          "data": {
            "text/plain": [
              "               EventName         DeviceIDHash  EventTimestamp  ExpId  \\\n",
              "2828            Tutorial  3737462046622621720      1564618048    246   \n",
              "2829    MainScreenAppear  3737462046622621720      1564618080    246   \n",
              "2830    MainScreenAppear  3737462046622621720      1564618135    246   \n",
              "2831  OffersScreenAppear  3737462046622621720      1564618138    246   \n",
              "2832    MainScreenAppear  1433840883824088890      1564618139    247   \n",
              "\n",
              "               EventTime  control_group  \n",
              "2828 2019-08-01 00:07:28           True  \n",
              "2829 2019-08-01 00:08:00           True  \n",
              "2830 2019-08-01 00:08:55           True  \n",
              "2831 2019-08-01 00:08:58           True  \n",
              "2832 2019-08-01 00:08:59           True  "
            ],
            "text/html": [
              "\n",
              "  <div id=\"df-d72b46d3-d7b3-4048-a19f-396449e6dbec\">\n",
              "    <div class=\"colab-df-container\">\n",
              "      <div>\n",
              "<style scoped>\n",
              "    .dataframe tbody tr th:only-of-type {\n",
              "        vertical-align: middle;\n",
              "    }\n",
              "\n",
              "    .dataframe tbody tr th {\n",
              "        vertical-align: top;\n",
              "    }\n",
              "\n",
              "    .dataframe thead th {\n",
              "        text-align: right;\n",
              "    }\n",
              "</style>\n",
              "<table border=\"1\" class=\"dataframe\">\n",
              "  <thead>\n",
              "    <tr style=\"text-align: right;\">\n",
              "      <th></th>\n",
              "      <th>EventName</th>\n",
              "      <th>DeviceIDHash</th>\n",
              "      <th>EventTimestamp</th>\n",
              "      <th>ExpId</th>\n",
              "      <th>EventTime</th>\n",
              "      <th>control_group</th>\n",
              "    </tr>\n",
              "  </thead>\n",
              "  <tbody>\n",
              "    <tr>\n",
              "      <th>2828</th>\n",
              "      <td>Tutorial</td>\n",
              "      <td>3737462046622621720</td>\n",
              "      <td>1564618048</td>\n",
              "      <td>246</td>\n",
              "      <td>2019-08-01 00:07:28</td>\n",
              "      <td>True</td>\n",
              "    </tr>\n",
              "    <tr>\n",
              "      <th>2829</th>\n",
              "      <td>MainScreenAppear</td>\n",
              "      <td>3737462046622621720</td>\n",
              "      <td>1564618080</td>\n",
              "      <td>246</td>\n",
              "      <td>2019-08-01 00:08:00</td>\n",
              "      <td>True</td>\n",
              "    </tr>\n",
              "    <tr>\n",
              "      <th>2830</th>\n",
              "      <td>MainScreenAppear</td>\n",
              "      <td>3737462046622621720</td>\n",
              "      <td>1564618135</td>\n",
              "      <td>246</td>\n",
              "      <td>2019-08-01 00:08:55</td>\n",
              "      <td>True</td>\n",
              "    </tr>\n",
              "    <tr>\n",
              "      <th>2831</th>\n",
              "      <td>OffersScreenAppear</td>\n",
              "      <td>3737462046622621720</td>\n",
              "      <td>1564618138</td>\n",
              "      <td>246</td>\n",
              "      <td>2019-08-01 00:08:58</td>\n",
              "      <td>True</td>\n",
              "    </tr>\n",
              "    <tr>\n",
              "      <th>2832</th>\n",
              "      <td>MainScreenAppear</td>\n",
              "      <td>1433840883824088890</td>\n",
              "      <td>1564618139</td>\n",
              "      <td>247</td>\n",
              "      <td>2019-08-01 00:08:59</td>\n",
              "      <td>True</td>\n",
              "    </tr>\n",
              "  </tbody>\n",
              "</table>\n",
              "</div>\n",
              "      <button class=\"colab-df-convert\" onclick=\"convertToInteractive('df-d72b46d3-d7b3-4048-a19f-396449e6dbec')\"\n",
              "              title=\"Convert this dataframe to an interactive table.\"\n",
              "              style=\"display:none;\">\n",
              "        \n",
              "  <svg xmlns=\"http://www.w3.org/2000/svg\" height=\"24px\"viewBox=\"0 0 24 24\"\n",
              "       width=\"24px\">\n",
              "    <path d=\"M0 0h24v24H0V0z\" fill=\"none\"/>\n",
              "    <path d=\"M18.56 5.44l.94 2.06.94-2.06 2.06-.94-2.06-.94-.94-2.06-.94 2.06-2.06.94zm-11 1L8.5 8.5l.94-2.06 2.06-.94-2.06-.94L8.5 2.5l-.94 2.06-2.06.94zm10 10l.94 2.06.94-2.06 2.06-.94-2.06-.94-.94-2.06-.94 2.06-2.06.94z\"/><path d=\"M17.41 7.96l-1.37-1.37c-.4-.4-.92-.59-1.43-.59-.52 0-1.04.2-1.43.59L10.3 9.45l-7.72 7.72c-.78.78-.78 2.05 0 2.83L4 21.41c.39.39.9.59 1.41.59.51 0 1.02-.2 1.41-.59l7.78-7.78 2.81-2.81c.8-.78.8-2.07 0-2.86zM5.41 20L4 18.59l7.72-7.72 1.47 1.35L5.41 20z\"/>\n",
              "  </svg>\n",
              "      </button>\n",
              "      \n",
              "  <style>\n",
              "    .colab-df-container {\n",
              "      display:flex;\n",
              "      flex-wrap:wrap;\n",
              "      gap: 12px;\n",
              "    }\n",
              "\n",
              "    .colab-df-convert {\n",
              "      background-color: #E8F0FE;\n",
              "      border: none;\n",
              "      border-radius: 50%;\n",
              "      cursor: pointer;\n",
              "      display: none;\n",
              "      fill: #1967D2;\n",
              "      height: 32px;\n",
              "      padding: 0 0 0 0;\n",
              "      width: 32px;\n",
              "    }\n",
              "\n",
              "    .colab-df-convert:hover {\n",
              "      background-color: #E2EBFA;\n",
              "      box-shadow: 0px 1px 2px rgba(60, 64, 67, 0.3), 0px 1px 3px 1px rgba(60, 64, 67, 0.15);\n",
              "      fill: #174EA6;\n",
              "    }\n",
              "\n",
              "    [theme=dark] .colab-df-convert {\n",
              "      background-color: #3B4455;\n",
              "      fill: #D2E3FC;\n",
              "    }\n",
              "\n",
              "    [theme=dark] .colab-df-convert:hover {\n",
              "      background-color: #434B5C;\n",
              "      box-shadow: 0px 1px 3px 1px rgba(0, 0, 0, 0.15);\n",
              "      filter: drop-shadow(0px 1px 2px rgba(0, 0, 0, 0.3));\n",
              "      fill: #FFFFFF;\n",
              "    }\n",
              "  </style>\n",
              "\n",
              "      <script>\n",
              "        const buttonEl =\n",
              "          document.querySelector('#df-d72b46d3-d7b3-4048-a19f-396449e6dbec button.colab-df-convert');\n",
              "        buttonEl.style.display =\n",
              "          google.colab.kernel.accessAllowed ? 'block' : 'none';\n",
              "\n",
              "        async function convertToInteractive(key) {\n",
              "          const element = document.querySelector('#df-d72b46d3-d7b3-4048-a19f-396449e6dbec');\n",
              "          const dataTable =\n",
              "            await google.colab.kernel.invokeFunction('convertToInteractive',\n",
              "                                                     [key], {});\n",
              "          if (!dataTable) return;\n",
              "\n",
              "          const docLinkHtml = 'Like what you see? Visit the ' +\n",
              "            '<a target=\"_blank\" href=https://colab.research.google.com/notebooks/data_table.ipynb>data table notebook</a>'\n",
              "            + ' to learn more about interactive tables.';\n",
              "          element.innerHTML = '';\n",
              "          dataTable['output_type'] = 'display_data';\n",
              "          await google.colab.output.renderOutput(dataTable, element);\n",
              "          const docLink = document.createElement('div');\n",
              "          docLink.innerHTML = docLinkHtml;\n",
              "          element.appendChild(docLink);\n",
              "        }\n",
              "      </script>\n",
              "    </div>\n",
              "  </div>\n",
              "  "
            ]
          },
          "metadata": {},
          "execution_count": 33
        }
      ]
    },
    {
      "cell_type": "markdown",
      "source": [
        "Pada tahap ini saya akan menguji apakah ada perbedaan yang signifikan antara kelompok uji dengan kelompok kontrol. Karena itu saya menambahkan kolom baru yang bernama `control_group`. Nilai `True` artinya data tersebut adalah kelompok kontrol, sedangkan `False` adalah kelompok uji."
      ],
      "metadata": {
        "id": "oBVbnK9EkXj1"
      }
    },
    {
      "cell_type": "code",
      "source": [
        "users_per_control_group = df_1.groupby('control_group').agg({'DeviceIDHash':'nunique'})\n",
        "users_per_control_group.columns = ['users']\n",
        "users_per_control_group"
      ],
      "metadata": {
        "colab": {
          "base_uri": "https://localhost:8080/",
          "height": 143
        },
        "id": "__r-M6oic10f",
        "outputId": "b38efb21-2e89-4a11-adec-02526429abea"
      },
      "execution_count": null,
      "outputs": [
        {
          "output_type": "execute_result",
          "data": {
            "text/plain": [
              "               users\n",
              "control_group       \n",
              "False           2537\n",
              "True            4997"
            ],
            "text/html": [
              "\n",
              "  <div id=\"df-410da441-afee-4318-88f2-2e4468c4a3c5\">\n",
              "    <div class=\"colab-df-container\">\n",
              "      <div>\n",
              "<style scoped>\n",
              "    .dataframe tbody tr th:only-of-type {\n",
              "        vertical-align: middle;\n",
              "    }\n",
              "\n",
              "    .dataframe tbody tr th {\n",
              "        vertical-align: top;\n",
              "    }\n",
              "\n",
              "    .dataframe thead th {\n",
              "        text-align: right;\n",
              "    }\n",
              "</style>\n",
              "<table border=\"1\" class=\"dataframe\">\n",
              "  <thead>\n",
              "    <tr style=\"text-align: right;\">\n",
              "      <th></th>\n",
              "      <th>users</th>\n",
              "    </tr>\n",
              "    <tr>\n",
              "      <th>control_group</th>\n",
              "      <th></th>\n",
              "    </tr>\n",
              "  </thead>\n",
              "  <tbody>\n",
              "    <tr>\n",
              "      <th>False</th>\n",
              "      <td>2537</td>\n",
              "    </tr>\n",
              "    <tr>\n",
              "      <th>True</th>\n",
              "      <td>4997</td>\n",
              "    </tr>\n",
              "  </tbody>\n",
              "</table>\n",
              "</div>\n",
              "      <button class=\"colab-df-convert\" onclick=\"convertToInteractive('df-410da441-afee-4318-88f2-2e4468c4a3c5')\"\n",
              "              title=\"Convert this dataframe to an interactive table.\"\n",
              "              style=\"display:none;\">\n",
              "        \n",
              "  <svg xmlns=\"http://www.w3.org/2000/svg\" height=\"24px\"viewBox=\"0 0 24 24\"\n",
              "       width=\"24px\">\n",
              "    <path d=\"M0 0h24v24H0V0z\" fill=\"none\"/>\n",
              "    <path d=\"M18.56 5.44l.94 2.06.94-2.06 2.06-.94-2.06-.94-.94-2.06-.94 2.06-2.06.94zm-11 1L8.5 8.5l.94-2.06 2.06-.94-2.06-.94L8.5 2.5l-.94 2.06-2.06.94zm10 10l.94 2.06.94-2.06 2.06-.94-2.06-.94-.94-2.06-.94 2.06-2.06.94z\"/><path d=\"M17.41 7.96l-1.37-1.37c-.4-.4-.92-.59-1.43-.59-.52 0-1.04.2-1.43.59L10.3 9.45l-7.72 7.72c-.78.78-.78 2.05 0 2.83L4 21.41c.39.39.9.59 1.41.59.51 0 1.02-.2 1.41-.59l7.78-7.78 2.81-2.81c.8-.78.8-2.07 0-2.86zM5.41 20L4 18.59l7.72-7.72 1.47 1.35L5.41 20z\"/>\n",
              "  </svg>\n",
              "      </button>\n",
              "      \n",
              "  <style>\n",
              "    .colab-df-container {\n",
              "      display:flex;\n",
              "      flex-wrap:wrap;\n",
              "      gap: 12px;\n",
              "    }\n",
              "\n",
              "    .colab-df-convert {\n",
              "      background-color: #E8F0FE;\n",
              "      border: none;\n",
              "      border-radius: 50%;\n",
              "      cursor: pointer;\n",
              "      display: none;\n",
              "      fill: #1967D2;\n",
              "      height: 32px;\n",
              "      padding: 0 0 0 0;\n",
              "      width: 32px;\n",
              "    }\n",
              "\n",
              "    .colab-df-convert:hover {\n",
              "      background-color: #E2EBFA;\n",
              "      box-shadow: 0px 1px 2px rgba(60, 64, 67, 0.3), 0px 1px 3px 1px rgba(60, 64, 67, 0.15);\n",
              "      fill: #174EA6;\n",
              "    }\n",
              "\n",
              "    [theme=dark] .colab-df-convert {\n",
              "      background-color: #3B4455;\n",
              "      fill: #D2E3FC;\n",
              "    }\n",
              "\n",
              "    [theme=dark] .colab-df-convert:hover {\n",
              "      background-color: #434B5C;\n",
              "      box-shadow: 0px 1px 3px 1px rgba(0, 0, 0, 0.15);\n",
              "      filter: drop-shadow(0px 1px 2px rgba(0, 0, 0, 0.3));\n",
              "      fill: #FFFFFF;\n",
              "    }\n",
              "  </style>\n",
              "\n",
              "      <script>\n",
              "        const buttonEl =\n",
              "          document.querySelector('#df-410da441-afee-4318-88f2-2e4468c4a3c5 button.colab-df-convert');\n",
              "        buttonEl.style.display =\n",
              "          google.colab.kernel.accessAllowed ? 'block' : 'none';\n",
              "\n",
              "        async function convertToInteractive(key) {\n",
              "          const element = document.querySelector('#df-410da441-afee-4318-88f2-2e4468c4a3c5');\n",
              "          const dataTable =\n",
              "            await google.colab.kernel.invokeFunction('convertToInteractive',\n",
              "                                                     [key], {});\n",
              "          if (!dataTable) return;\n",
              "\n",
              "          const docLinkHtml = 'Like what you see? Visit the ' +\n",
              "            '<a target=\"_blank\" href=https://colab.research.google.com/notebooks/data_table.ipynb>data table notebook</a>'\n",
              "            + ' to learn more about interactive tables.';\n",
              "          element.innerHTML = '';\n",
              "          dataTable['output_type'] = 'display_data';\n",
              "          await google.colab.output.renderOutput(dataTable, element);\n",
              "          const docLink = document.createElement('div');\n",
              "          docLink.innerHTML = docLinkHtml;\n",
              "          element.appendChild(docLink);\n",
              "        }\n",
              "      </script>\n",
              "    </div>\n",
              "  </div>\n",
              "  "
            ]
          },
          "metadata": {},
          "execution_count": 34
        }
      ]
    },
    {
      "cell_type": "markdown",
      "source": [
        "Ada `2,537` pengguna yang masuk kedalam kelompok uji, sedangkan pada kelompok kontrol ada sebanyak `4,997` pengguna.\n",
        "\n",
        "Selain itu sebelum memulai, saya akan merumuskan hipotesis untuk pengujian kali ini. Berikut hipotesisnya:\n",
        "- H0: Tidak Ada Perbedaan Proporsi Peristiwa Antara Kelompok Kontrol dengan Kelompok Uji\n",
        "- H1: Ada Perbedaan Proporsi Peristiwa Antara Kelompok Kontrol dengan Kelompok Uji"
      ],
      "metadata": {
        "id": "j8eFvtaEk3-W"
      }
    },
    {
      "cell_type": "code",
      "source": [
        "table_control_group = df_1.pivot_table(\n",
        "    index = 'EventName',\n",
        "    columns = 'control_group',\n",
        "    values = 'DeviceIDHash',\n",
        "    aggfunc = 'nunique'\n",
        ")\n",
        "\n",
        "table_control_group.sort_values(by=False, ascending=False, inplace=True)\n",
        "\n",
        "for event in table_control_group.index:\n",
        "\n",
        "  check_event_hypothesis(\n",
        "      table_control_group,\n",
        "      users_per_control_group,\n",
        "      event,\n",
        "      True,\n",
        "      False\n",
        "  )\n",
        "  print('---------------------------------------------------------')"
      ],
      "metadata": {
        "colab": {
          "base_uri": "https://localhost:8080/"
        },
        "id": "wavBObLXj8h7",
        "outputId": "692049c5-f0a6-4efc-89b0-de01bf2137f0"
      },
      "execution_count": null,
      "outputs": [
        {
          "output_type": "stream",
          "name": "stdout",
          "text": [
            "Peristiwa: MainScreenAppear\n",
            "p-value:  [0.29424527]\n",
            "Gagal untuk menolak hipotesis nol: tidak ada alasan untuk mempertimbangkan bahwa proporsinya berbeda\n",
            "---------------------------------------------------------\n",
            "Peristiwa: OffersScreenAppear\n",
            "p-value:  [0.4342555]\n",
            "Gagal untuk menolak hipotesis nol: tidak ada alasan untuk mempertimbangkan bahwa proporsinya berbeda\n",
            "---------------------------------------------------------\n",
            "Peristiwa: CartScreenAppear\n",
            "p-value:  [0.18175875]\n",
            "Gagal untuk menolak hipotesis nol: tidak ada alasan untuk mempertimbangkan bahwa proporsinya berbeda\n",
            "---------------------------------------------------------\n",
            "Peristiwa: PaymentScreenSuccessful\n",
            "p-value:  [0.60042943]\n",
            "Gagal untuk menolak hipotesis nol: tidak ada alasan untuk mempertimbangkan bahwa proporsinya berbeda\n",
            "---------------------------------------------------------\n",
            "Peristiwa: Tutorial\n",
            "p-value:  [0.76486247]\n",
            "Gagal untuk menolak hipotesis nol: tidak ada alasan untuk mempertimbangkan bahwa proporsinya berbeda\n",
            "---------------------------------------------------------\n"
          ]
        }
      ]
    },
    {
      "cell_type": "markdown",
      "source": [
        "Berdasarkan dari uji statistik yang telah dilakukan diatas, pada seluruh peristiwa menunjukan `p-value`nya diatas dari nilai alpha. Artinya pada seluruh peristiwa tidak ada perbedaan diantara kelompok kontrol dengan kelompok uji. Atau secara praktisnya, dapat diartikan bahwa perubahan *font* yang telah dilakukan oleh *web designer* tidak membuat perilaku pengguna berbeda."
      ],
      "metadata": {
        "id": "VlA8AtEomE75"
      }
    },
    {
      "cell_type": "markdown",
      "source": [
        "## Menguji Seluruh Peristiwa Antara Kelompok Kontrol dengan Kelompok Uji Dengan Nilai Alpha 0.1"
      ],
      "metadata": {
        "id": "YrLxuTV7oLQh"
      }
    },
    {
      "cell_type": "code",
      "source": [
        "def check_event_hypothesis_2(users_events_per_group, users_per_group,\n",
        "                           event,\n",
        "                           exp1, \n",
        "                           exp2,\n",
        "                           alpha\n",
        "                          ):\n",
        "    print('Peristiwa: '+ event)\n",
        "    check_hypothesis(users_events_per_group.loc[event, exp1],\n",
        "                     users_events_per_group.loc[event, exp2],\n",
        "                     users_per_group.loc[exp1],\n",
        "                     users_per_group.loc[exp2],\n",
        "                     alpha = alpha\n",
        "                    )"
      ],
      "metadata": {
        "id": "RJj6Hr15n6F6"
      },
      "execution_count": null,
      "outputs": []
    },
    {
      "cell_type": "markdown",
      "source": [
        "Pada langkah ini saya akan kembali menguji hipotesis, namun dengan nilai `alpha` `0.1`. Maka sebelum melakukannya saya perlu mengubah sedikit *function* yang digunakan untuk dapat mengubah nilai `alpha` menjadi `0.1`. "
      ],
      "metadata": {
        "id": "MiWYNoCGpl-6"
      }
    },
    {
      "cell_type": "code",
      "source": [
        "for event in table_control_group.index:\n",
        "\n",
        "  check_event_hypothesis_2(\n",
        "      table_control_group,\n",
        "      users_per_control_group,\n",
        "      event,\n",
        "      True,\n",
        "      False,\n",
        "      0.1\n",
        "  )\n",
        "  print('---------------------------------------------------------')"
      ],
      "metadata": {
        "colab": {
          "base_uri": "https://localhost:8080/"
        },
        "id": "QcCGj43NpOT3",
        "outputId": "55be81b8-b73d-491b-ee96-6e9f7abd22be"
      },
      "execution_count": null,
      "outputs": [
        {
          "output_type": "stream",
          "name": "stdout",
          "text": [
            "Peristiwa: MainScreenAppear\n",
            "p-value:  [0.29424527]\n",
            "Gagal untuk menolak hipotesis nol: tidak ada alasan untuk mempertimbangkan bahwa proporsinya berbeda\n",
            "---------------------------------------------------------\n",
            "Peristiwa: OffersScreenAppear\n",
            "p-value:  [0.4342555]\n",
            "Gagal untuk menolak hipotesis nol: tidak ada alasan untuk mempertimbangkan bahwa proporsinya berbeda\n",
            "---------------------------------------------------------\n",
            "Peristiwa: CartScreenAppear\n",
            "p-value:  [0.18175875]\n",
            "Gagal untuk menolak hipotesis nol: tidak ada alasan untuk mempertimbangkan bahwa proporsinya berbeda\n",
            "---------------------------------------------------------\n",
            "Peristiwa: PaymentScreenSuccessful\n",
            "p-value:  [0.60042943]\n",
            "Gagal untuk menolak hipotesis nol: tidak ada alasan untuk mempertimbangkan bahwa proporsinya berbeda\n",
            "---------------------------------------------------------\n",
            "Peristiwa: Tutorial\n",
            "p-value:  [0.76486247]\n",
            "Gagal untuk menolak hipotesis nol: tidak ada alasan untuk mempertimbangkan bahwa proporsinya berbeda\n",
            "---------------------------------------------------------\n"
          ]
        }
      ]
    },
    {
      "cell_type": "markdown",
      "source": [
        "Hasilnya adalah tetap tidak ada perbedaan yang signifikan pada semua peristiwa antara kelompok kontrol dengan kelompok uji. Selain itu dengan naiknya batas signifikansi ke `0.1` turut juga meningkatkan resiko terjadi *false positive* atau `kesalahan tipe 1`."
      ],
      "metadata": {
        "id": "X7LEYVJk5sCW"
      }
    },
    {
      "cell_type": "markdown",
      "source": [
        "# Kesimpulan"
      ],
      "metadata": {
        "id": "DOo4gk9k7GwC"
      }
    },
    {
      "cell_type": "markdown",
      "source": [
        "Dari seluruh eksplorasi dan analisa ada beberapa *insight* yang dapat diambil. Poin pertama adalah dari analisa *funnel*. Pada bagian analisa tersebut menunjukan sebanyak `75%` pengguna yang telah masuk kedalam peristiwa `Cart Screen Appear` berhasil melanjutkan ke tahap pembayaran. Artinya jika tujuan akhir yang ingin dituju adalah meningkatkan pendapatan perusahaan, maka yang perlu dilakukan adalah membuat lebih banyak pengguna masuk kedalam peristiwa `Cart Screen Appear`. Karena dari `7,419` pengguna diawal corong, hanya `24%` pengguna yang berhasil masuk ke `Cart Screen Appear`.\n",
        "\n",
        "Pada poin kedua, yaitu A/A/B *testing* hasilnya tidak ada perbedaan antara dua kelompok kontrol. Dan tidak ada perbedaan antara kelompok kontrol dengan kelompok uji. Artinya perubahan *font* yang dilakukan oleh *web designer* pada keseluruhan aplikasi tidak mengganggu pengguna. Karena tidak ada perubahan perilaku pengguna setelah *font* diubah. "
      ],
      "metadata": {
        "id": "A_SRggG-9x5K"
      }
    }
  ]
}